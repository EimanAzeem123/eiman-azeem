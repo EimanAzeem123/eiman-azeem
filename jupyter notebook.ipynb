{
 "cells": [
  {
   "cell_type": "markdown",
   "id": "a38bd08b-7e1b-4ab2-b051-75d26ec364f7",
   "metadata": {},
   "source": [
    "# CHAPTER 2 (VARIABLE,EXPRESSION,AND STATEMENTS)"
   ]
  },
  {
   "cell_type": "markdown",
   "id": "1bc04d40-2f12-45a2-a911-be263be3f8ed",
   "metadata": {},
   "source": [
    "# CONSTANTS\n"
   ]
  },
  {
   "cell_type": "code",
   "execution_count": 2,
   "id": "568ec19d-b2fd-458e-a4f9-394e0373801d",
   "metadata": {},
   "outputs": [
    {
     "name": "stdout",
     "output_type": "stream",
     "text": [
      "12\n"
     ]
    }
   ],
   "source": [
    "print(12)\n"
   ]
  },
  {
   "cell_type": "code",
   "execution_count": 3,
   "id": "335c75bf-10c6-4a77-b593-bedf0a2058c4",
   "metadata": {},
   "outputs": [
    {
     "name": "stdout",
     "output_type": "stream",
     "text": [
      "98.6\n"
     ]
    }
   ],
   "source": [
    "print(98.6)"
   ]
  },
  {
   "cell_type": "code",
   "execution_count": 4,
   "id": "3c271e65-af44-456b-86f0-55eb25c8a643",
   "metadata": {},
   "outputs": [
    {
     "name": "stdout",
     "output_type": "stream",
     "text": [
      "hello world\n"
     ]
    }
   ],
   "source": [
    "print(\"hello world\")"
   ]
  },
  {
   "cell_type": "markdown",
   "id": "94d3464e-9483-4c7f-bd2b-7296926a4349",
   "metadata": {},
   "source": [
    "# VARIABLES\n"
   ]
  },
  {
   "cell_type": "code",
   "execution_count": 1,
   "id": "5c478563-4429-4904-8a05-b6b2d62db455",
   "metadata": {},
   "outputs": [
    {
     "name": "stdout",
     "output_type": "stream",
     "text": [
      "437.5\n"
     ]
    }
   ],
   "source": [
    "x1q3z9ocd = 35.0 \n",
    "x1q3z9afd = 12.50\n",
    "x1q3p9afd = x1q3z9ocd * x1q3z9afd\n",
    "print(x1q3p9afd)"
   ]
  },
  {
   "cell_type": "code",
   "execution_count": 8,
   "id": "42a10b63-df81-4633-a2a7-3c2e965b63d4",
   "metadata": {},
   "outputs": [
    {
     "name": "stdout",
     "output_type": "stream",
     "text": [
      "437.5\n"
     ]
    }
   ],
   "source": [
    "hours = 35.0 \n",
    "rate = 12.50 \n",
    "pay = hours * rate \n",
    "print(pay)"
   ]
  },
  {
   "cell_type": "code",
   "execution_count": 9,
   "id": "6b26eeb3-4075-43c0-80e7-01bf994072bd",
   "metadata": {},
   "outputs": [
    {
     "name": "stdout",
     "output_type": "stream",
     "text": [
      "437.5\n"
     ]
    }
   ],
   "source": [
    "a = 35.0 \n",
    "b = 12.50 \n",
    "c = a * b \n",
    "print(c)"
   ]
  },
  {
   "cell_type": "markdown",
   "id": "bbfb7e7f-27ee-49a0-a128-960764f822b8",
   "metadata": {},
   "source": [
    "# ASSIGNMENT STATEMENTS(NUMERIC EXPRESSIONS ,ORDER)"
   ]
  },
  {
   "cell_type": "code",
   "execution_count": 13,
   "id": "0c267a2e-15a8-43df-abfc-055a330166a4",
   "metadata": {},
   "outputs": [
    {
     "name": "stdout",
     "output_type": "stream",
     "text": [
      "11.0\n"
     ]
    }
   ],
   "source": [
    "x = 1 + 2 ** 3 / 4 * 5\n",
    " print(x)"
   ]
  },
  {
   "cell_type": "code",
   "execution_count": 11,
   "id": "f0e2ae09-d5f9-45c1-8836-1e407001092b",
   "metadata": {},
   "outputs": [
    {
     "name": "stdout",
     "output_type": "stream",
     "text": [
      "5280\n"
     ]
    }
   ],
   "source": [
    "yy = 440 * 12\n",
    " print(yy)\n"
   ]
  },
  {
   "cell_type": "code",
   "execution_count": 10,
   "id": "9dc11a04-2059-4b5a-8237-3d60b35dc6ce",
   "metadata": {},
   "outputs": [
    {
     "name": "stdout",
     "output_type": "stream",
     "text": [
      "4\n"
     ]
    }
   ],
   "source": [
    "xx = 2\n",
    " xx = xx + 2\n",
    " print(xx)"
   ]
  },
  {
   "cell_type": "code",
   "execution_count": 12,
   "id": "9ef5802c-0982-4963-8670-65ef9d4576fe",
   "metadata": {},
   "outputs": [
    {
     "name": "stdout",
     "output_type": "stream",
     "text": [
      "3\n"
     ]
    }
   ],
   "source": [
    "jj = 23\n",
    " kk = jj % 5\n",
    " print(kk)"
   ]
  },
  {
   "cell_type": "code",
   "execution_count": 15,
   "id": "aa4c53d1-d5ec-4b74-aadb-f8b8c89f109d",
   "metadata": {},
   "outputs": [
    {
     "name": "stdout",
     "output_type": "stream",
     "text": [
      "5\n"
     ]
    }
   ],
   "source": [
    "ddd = 1 + 4\n",
    ">>> print(ddd)"
   ]
  },
  {
   "cell_type": "markdown",
   "id": "558eff2b-eb51-4a27-9132-3330739301e3",
   "metadata": {},
   "source": [
    "# TYPE CONVERSIONS"
   ]
  },
  {
   "cell_type": "code",
   "execution_count": 16,
   "id": "3b3ae8a1-f809-42c6-b4c9-9fbe97d4eaf5",
   "metadata": {},
   "outputs": [
    {
     "name": "stdout",
     "output_type": "stream",
     "text": [
      "hello there\n"
     ]
    }
   ],
   "source": [
    " eee = 'hello ' + 'there'\n",
    ">>> print(eee)"
   ]
  },
  {
   "cell_type": "markdown",
   "id": "9019834f-8b85-4a49-bba2-41f76ed03280",
   "metadata": {},
   "source": [
    "# INTEGER DIVISIONS"
   ]
  },
  {
   "cell_type": "code",
   "execution_count": 18,
   "id": "aef0f7d9-4884-4f2c-9548-c74105c75623",
   "metadata": {},
   "outputs": [
    {
     "name": "stdout",
     "output_type": "stream",
     "text": [
      "199.0\n"
     ]
    }
   ],
   "source": [
    "print(float(99) + 100)"
   ]
  },
  {
   "cell_type": "code",
   "execution_count": 28,
   "id": "2ed78cd7-3aa6-4944-93ab-e98c6da46890",
   "metadata": {},
   "outputs": [
    {
     "name": "stdout",
     "output_type": "stream",
     "text": [
      "0.99\n"
     ]
    }
   ],
   "source": [
    "print(99 / 100)"
   ]
  },
  {
   "cell_type": "code",
   "execution_count": 29,
   "id": "a20f1cf5-220d-4cbe-8cf5-f8424d7a6f40",
   "metadata": {},
   "outputs": [
    {
     "name": "stdout",
     "output_type": "stream",
     "text": [
      "0.99\n"
     ]
    }
   ],
   "source": [
    "print(99.0 / 100.0)"
   ]
  },
  {
   "cell_type": "markdown",
   "id": "228cf82a-39c3-4d39-93e9-20ec0a7c04c3",
   "metadata": {},
   "source": [
    "# STRING CONVERSIONS"
   ]
  },
  {
   "cell_type": "code",
   "execution_count": 31,
   "id": "cd6cd7e9-3f1c-4c2f-aa12-fa39101a4706",
   "metadata": {},
   "outputs": [
    {
     "name": "stdout",
     "output_type": "stream",
     "text": [
      "Who are you?  Chuck\n"
     ]
    },
    {
     "name": "stdout",
     "output_type": "stream",
     "text": [
      "Welcome Chuck\n"
     ]
    }
   ],
   "source": [
    "nam = input('Who are you? ')\n",
    "print('Welcome', nam)"
   ]
  },
  {
   "cell_type": "code",
   "execution_count": 32,
   "id": "a74c38f7-7228-42df-a69f-943e42d02814",
   "metadata": {},
   "outputs": [
    {
     "name": "stdout",
     "output_type": "stream",
     "text": [
      "Europe floor? 0\n"
     ]
    },
    {
     "name": "stdout",
     "output_type": "stream",
     "text": [
      "US floor 1\n"
     ]
    }
   ],
   "source": [
    "inp = input('Europe floor?')\n",
    "usf = int(inp) + 1\n",
    "print('US floor', usf)"
   ]
  },
  {
   "cell_type": "markdown",
   "id": "55c4a490-0f58-4b23-a17c-92bd28150923",
   "metadata": {},
   "source": [
    "# CHAPTER 3(CONDITIONAL EXECUTION)"
   ]
  },
  {
   "cell_type": "markdown",
   "id": "81fa8bd0-437e-4bc1-b4b6-4dad067383ce",
   "metadata": {},
   "source": [
    "# CONDITIONAL STEPS\n"
   ]
  },
  {
   "cell_type": "code",
   "execution_count": 36,
   "id": "8a3301db-53f7-4c69-8b9e-53b185e2cd45",
   "metadata": {},
   "outputs": [
    {
     "name": "stdout",
     "output_type": "stream",
     "text": [
      "Smaller\n",
      "Finis\n"
     ]
    }
   ],
   "source": [
    "\n",
    "x = 5\n",
    "if x < 10:\n",
    "    print('Smaller')\n",
    "if x > 20:\n",
    "    print('Bigger')\n",
    "print('Finis')"
   ]
  },
  {
   "cell_type": "markdown",
   "id": "bc9b3e90-6fc3-4d91-9ba1-ca4e8c1020f3",
   "metadata": {},
   "source": [
    "# COMPARISON OPERATORS ,CONDITIONAL OPERATIONS\n",
    "\n"
   ]
  },
  {
   "cell_type": "code",
   "execution_count": 39,
   "id": "d6eb1d61-5280-4e36-aad4-77de73db5628",
   "metadata": {},
   "outputs": [
    {
     "name": "stdout",
     "output_type": "stream",
     "text": [
      "Equals 5\n",
      "Greater than 4\n",
      "Greater than or Equals 5\n",
      "Less than 6\n",
      "Less than or Equals 5\n",
      "Not equal\n"
     ]
    }
   ],
   "source": [
    "x = 5\n",
    "if x == 5 :\n",
    "    print('Equals 5')\n",
    "if x > 4 :\n",
    "    print('Greater than 4')\n",
    "if x >= 5 :\n",
    "    print('Greater than or Equals 5')\n",
    "if x < 6 : \n",
    "    print('Less than 6')\n",
    "if x <= 5 :\n",
    "    print('Less than or Equals 5')\n",
    "if x != 6 :\n",
    "    print('Not equal')\n"
   ]
  },
  {
   "cell_type": "markdown",
   "id": "9fdea485-7281-4da5-8209-2534ce9846af",
   "metadata": {},
   "source": [
    "# ONE WAY DECISIONS"
   ]
  },
  {
   "cell_type": "code",
   "execution_count": 41,
   "id": "d3c5effd-282a-4162-ba40-9c5025e071f6",
   "metadata": {},
   "outputs": [
    {
     "name": "stdout",
     "output_type": "stream",
     "text": [
      "Before 5\n",
      "Is 5\n",
      "Is Still 5\n",
      "Third 5\n",
      "Afterwards 5\n",
      "Before 6\n",
      "Afterwards 6\n"
     ]
    }
   ],
   "source": [
    "x = 5\n",
    "print('Before 5')\n",
    "if x == 5 :\n",
    "    print('Is 5')\n",
    "    print('Is Still 5')\n",
    "    print('Third 5')\n",
    "print('Afterwards 5')\n",
    "print('Before 6')\n",
    "if x == 6 :\n",
    "    print('Is 6')\n",
    "    print('Is Still 6')\n",
    "    print('Third 6')\n",
    "print('Afterwards 6')"
   ]
  },
  {
   "cell_type": "markdown",
   "id": "238f92d7-8a37-411d-82d9-7aaef09dd908",
   "metadata": {},
   "source": [
    "# NESTED DECISIONS\n",
    "\n",
    "\n"
   ]
  },
  {
   "cell_type": "code",
   "execution_count": 43,
   "id": "9a7697eb-ffd6-4a9a-ac20-4f1d0a4b8cf6",
   "metadata": {},
   "outputs": [
    {
     "name": "stdout",
     "output_type": "stream",
     "text": [
      "More than one\n",
      "Less than 100\n",
      "All done\n"
     ]
    }
   ],
   "source": [
    "\n",
    "x = 42\n",
    "if x > 1 :\n",
    "    print('More than one')\n",
    "if x < 100 :\n",
    "    print('Less than 100')\n",
    "print('All done')\n",
    "\n",
    "\n"
   ]
  },
  {
   "cell_type": "markdown",
   "id": "ecb2e90b-7985-41d9-ac1c-12389efeec7c",
   "metadata": {},
   "source": [
    "# TWO WAY DECISIONS WITH ELSE"
   ]
  },
  {
   "cell_type": "code",
   "execution_count": 44,
   "id": "d3c1a44a-b25d-4234-bb03-e3fe61d2b0c2",
   "metadata": {},
   "outputs": [
    {
     "name": "stdout",
     "output_type": "stream",
     "text": [
      "Bigger\n",
      "All done\n"
     ]
    }
   ],
   "source": [
    "x = 4\n",
    "if x > 2 :\n",
    "    print('Bigger')\n",
    "else :\n",
    "    print('Smaller')\n",
    "print('All done')"
   ]
  },
  {
   "cell_type": "markdown",
   "id": "018b2ba9-3f43-4a4d-8f93-996d2b67adb7",
   "metadata": {},
   "source": [
    "# VISUALIZE BLOCKS"
   ]
  },
  {
   "cell_type": "code",
   "execution_count": 45,
   "id": "68910b36-23ef-478f-99db-343982153dd0",
   "metadata": {},
   "outputs": [
    {
     "name": "stdout",
     "output_type": "stream",
     "text": [
      "Bigger\n",
      "All done\n"
     ]
    }
   ],
   "source": [
    "x = 4\n",
    "if x > 2 :\n",
    "      print('Bigger')\n",
    "else :\n",
    "      print('Smaller')\n",
    "print('All done')"
   ]
  },
  {
   "cell_type": "markdown",
   "id": "e8bc10d5-a662-433e-af84-60a428714e95",
   "metadata": {},
   "source": [
    "# CONDITIONAL STRUCTURES (MULTIWAY)"
   ]
  },
  {
   "cell_type": "code",
   "execution_count": 46,
   "id": "c169cb17-e4ac-46c0-b8cd-3aeeb3cfda2d",
   "metadata": {},
   "outputs": [
    {
     "name": "stdout",
     "output_type": "stream",
     "text": [
      "Medium\n",
      "All done\n"
     ]
    }
   ],
   "source": [
    "if x < 2 :\n",
    "      print('small')\n",
    "elif x < 10 :\n",
    "      print('Medium')\n",
    "else :\n",
    "      print('LARGE')\n",
    "print('All done')"
   ]
  },
  {
   "cell_type": "code",
   "execution_count": 47,
   "id": "7be587dc-8708-4327-9795-ff269157d1dc",
   "metadata": {},
   "outputs": [
    {
     "name": "stdout",
     "output_type": "stream",
     "text": [
      "small\n",
      "All done\n"
     ]
    }
   ],
   "source": [
    "x = 0\n",
    "if x < 2 :\n",
    "     print('small')\n",
    "elif x < 10 :\n",
    "     print('Medium')\n",
    "else :\n",
    "     print('LARGE')\n",
    "print('All done')"
   ]
  },
  {
   "cell_type": "code",
   "execution_count": 48,
   "id": "125cb007-0f8f-4757-a2bc-bab7ace7602d",
   "metadata": {},
   "outputs": [
    {
     "name": "stdout",
     "output_type": "stream",
     "text": [
      "Medium\n",
      "All done\n"
     ]
    }
   ],
   "source": [
    "x = 5\n",
    "if x < 2 :\n",
    "     print('small')\n",
    "elif x < 10 :\n",
    "     print('Medium')\n",
    "else :\n",
    "     print('LARGE')\n",
    "print('All done')"
   ]
  },
  {
   "cell_type": "code",
   "execution_count": 49,
   "id": "1ac4c640-cd23-4f3e-94ff-0537e1c235ac",
   "metadata": {},
   "outputs": [
    {
     "name": "stdout",
     "output_type": "stream",
     "text": [
      "Medium\n",
      "All done\n"
     ]
    }
   ],
   "source": [
    "# No Else\n",
    "x = 5\n",
    "if x < 2 :\n",
    "     print('Small')\n",
    "elif x < 10 :\n",
    "     print('Medium')\n",
    "print('All done')"
   ]
  },
  {
   "cell_type": "markdown",
   "id": "48890595-e484-49f9-9802-e0cac950cf1d",
   "metadata": {},
   "source": [
    "# MULTIWAY PUZZLES\n",
    "\n"
   ]
  },
  {
   "cell_type": "code",
   "execution_count": 50,
   "id": "33c9a4b8-6932-4eef-8c18-4aae31299b83",
   "metadata": {},
   "outputs": [
    {
     "name": "stdout",
     "output_type": "stream",
     "text": [
      "Two or more\n"
     ]
    }
   ],
   "source": [
    "if x < 2 :\n",
    "    print('Below 2')\n",
    "elif x >= 2 :\n",
    "    print('Two or more')\n",
    "else :\n",
    "    print('Something else')\n",
    "\n"
   ]
  },
  {
   "cell_type": "code",
   "execution_count": 51,
   "id": "235d036b-6961-4875-b59c-5b094db3622d",
   "metadata": {},
   "outputs": [
    {
     "name": "stdout",
     "output_type": "stream",
     "text": [
      "Below 20\n"
     ]
    }
   ],
   "source": [
    "if x < 2 :\n",
    "    print('Below 2')\n",
    "elif x < 20 :\n",
    "    print('Below 20')\n",
    "elif x < 10 :\n",
    "    print('Below 10')\n",
    "else :\n",
    "    print('Something else')\n",
    "    "
   ]
  },
  {
   "cell_type": "markdown",
   "id": "d757aa12-57d6-4e01-ab77-279af595d7db",
   "metadata": {},
   "source": [
    "# THE TRY/ EXCEPT STRUCTURE"
   ]
  },
  {
   "cell_type": "code",
   "execution_count": 57,
   "id": "8310334c-2d24-4c1a-b979-ac3ae77fb1b6",
   "metadata": {},
   "outputs": [
    {
     "name": "stdout",
     "output_type": "stream",
     "text": [
      "First -1\n",
      "Second 123\n"
     ]
    }
   ],
   "source": [
    "astr = 'Hello Bob'\n",
    "try:\n",
    "     istr = int(astr)\n",
    "except:\n",
    "     istr = -1\n",
    "print('First', istr)\n",
    "astr = '123'\n",
    "try:\n",
    "     istr = int(astr)\n",
    "except:\n",
    "     istr = -1\n",
    "print('Second', istr)"
   ]
  },
  {
   "cell_type": "code",
   "execution_count": 58,
   "id": "732b0430-9cf1-451d-bf86-33e4ff8fcb31",
   "metadata": {},
   "outputs": [
    {
     "name": "stdout",
     "output_type": "stream",
     "text": [
      "Hello\n",
      "Done -1\n"
     ]
    }
   ],
   "source": [
    "astr = 'Bob'\n",
    "try:\n",
    "   print('Hello')\n",
    "   istr = int(astr)\n",
    "   print('There')\n",
    "except:\n",
    "   istr = -1\n",
    "print('Done', istr) "
   ]
  },
  {
   "cell_type": "markdown",
   "id": "16766588-654f-4674-9930-f96e0df773a6",
   "metadata": {},
   "source": [
    "# CHAPTER 4 (FUNCTIONS)"
   ]
  },
  {
   "cell_type": "markdown",
   "id": "108e8ea1-1623-4ab0-b584-e9f6dae9f4c8",
   "metadata": {},
   "source": [
    "# STORED (AND REUSED ) STEPS\n",
    "\n"
   ]
  },
  {
   "cell_type": "code",
   "execution_count": 62,
   "id": "e3d90051-2f26-4066-a36c-4507959751b4",
   "metadata": {},
   "outputs": [
    {
     "name": "stdout",
     "output_type": "stream",
     "text": [
      "Hello\n",
      "Fun\n",
      "Zip\n",
      "Hello\n",
      "Fun\n"
     ]
    }
   ],
   "source": [
    "def thing():\n",
    "      print('Hello')\n",
    "      print('Fun')\n",
    "thing()\n",
    "print('Zip')\n",
    "thing()"
   ]
  },
  {
   "cell_type": "markdown",
   "id": "9c8e8912-a43e-44d1-8fa0-295885a4db61",
   "metadata": {},
   "source": [
    "# Python function(function definition)"
   ]
  },
  {
   "cell_type": "raw",
   "id": "95a03d2e-ef02-4b47-a060-7fbcdea360be",
   "metadata": {},
   "source": [
    "MAX FUNCYION\n"
   ]
  },
  {
   "cell_type": "code",
   "execution_count": 63,
   "id": "97bc4c3d-dc0d-4b46-85f7-3ad54fff5c8c",
   "metadata": {},
   "outputs": [
    {
     "name": "stdout",
     "output_type": "stream",
     "text": [
      "w\n"
     ]
    }
   ],
   "source": [
    "big = max('Hello world')\n",
    "print(big)"
   ]
  },
  {
   "cell_type": "markdown",
   "id": "cb0cbb4f-1384-4fa5-a26d-dae3dd46097e",
   "metadata": {},
   "source": [
    "# BUILDING OUR OWN FUNCTION\n",
    "\n"
   ]
  },
  {
   "cell_type": "code",
   "execution_count": 74,
   "id": "fd55b10f-e626-47c7-9057-37f5a845e518",
   "metadata": {},
   "outputs": [
    {
     "name": "stdout",
     "output_type": "stream",
     "text": [
      "Hello\n",
      "Yo\n",
      "7\n"
     ]
    }
   ],
   "source": [
    "x = 5\n",
    "print('Hello')\n",
    "def print_lyrics():\n",
    "        print(\"I'm a lumberjack, and I'm okay.\")\n",
    "        print('I sleep all night and I work all day.')\n",
    "print('Yo')\n",
    "x = x + 2\n",
    "print(x)"
   ]
  },
  {
   "cell_type": "markdown",
   "id": "8b6d6d6b-d583-4414-a1f8-6c6a2147c56a",
   "metadata": {},
   "source": [
    "# DEFINITIONS AND USES\n"
   ]
  },
  {
   "cell_type": "code",
   "execution_count": 75,
   "id": "f2728005-c088-4a9b-bea5-ce299b901d59",
   "metadata": {},
   "outputs": [
    {
     "name": "stdout",
     "output_type": "stream",
     "text": [
      "Hello\n",
      "Yo\n",
      "I'm a lumberjack, and I'm okay.\n",
      "I sleep all night and I work all day.\n",
      "7\n"
     ]
    }
   ],
   "source": [
    "x = 5\n",
    "print('Hello')\n",
    "def print_lyrics():\n",
    "     print(\"I'm a lumberjack, and I'm okay.\")\n",
    "     print('I sleep all night and I work all day.')\n",
    "print('Yo')\n",
    "print_lyrics()\n",
    "x = x + 2\n",
    "print(x)"
   ]
  },
  {
   "cell_type": "markdown",
   "id": "af6a449c-9377-4fb5-8adb-845c92187d27",
   "metadata": {},
   "source": [
    "# ARGUMENTS"
   ]
  },
  {
   "cell_type": "code",
   "execution_count": 77,
   "id": "23c28990-fe0c-440c-a7df-0ba37096e3c3",
   "metadata": {},
   "outputs": [],
   "source": [
    "big = max('Hello world')"
   ]
  },
  {
   "cell_type": "markdown",
   "id": "03762935-f42e-4757-909b-64e5d35d970f",
   "metadata": {},
   "source": [
    "# PARAMETERS"
   ]
  },
  {
   "cell_type": "code",
   "execution_count": 90,
   "id": "024d73ca-72c6-449b-bf5d-3f444ec707bc",
   "metadata": {},
   "outputs": [
    {
     "name": "stdout",
     "output_type": "stream",
     "text": [
      "Hello\n",
      "Bonjour\n",
      "Hello\n"
     ]
    }
   ],
   "source": [
    "def greet(lang):\n",
    "    if lang == 'es':\n",
    "         print('Hola')\n",
    "    elif lang == 'fr':\n",
    "       print('Bonjour')\n",
    "    else:\n",
    "       print('Hello')\n",
    "\n",
    "greet ('en')\n",
    "\n",
    "\n",
    "greet('fr')\n",
    "greet('en')\n",
    "\n"
   ]
  },
  {
   "cell_type": "markdown",
   "id": "d50743f8-f491-4044-9dcb-89bceeb0a67b",
   "metadata": {},
   "source": [
    "# RETURN VALUES\n",
    "\n"
   ]
  },
  {
   "cell_type": "code",
   "execution_count": 92,
   "id": "87ade26a-9c7e-4dce-844a-c687d69d9798",
   "metadata": {},
   "outputs": [
    {
     "name": "stdout",
     "output_type": "stream",
     "text": [
      "Hello Glenn\n",
      "Hello Sally\n"
     ]
    }
   ],
   "source": [
    "def greet():\n",
    "     return \"Hello\"\n",
    "print(greet(), \"Glenn\")\n",
    "print(greet(), \"Sally\")"
   ]
  },
  {
   "cell_type": "code",
   "execution_count": 107,
   "id": "e28363ca-a21e-47db-9498-43f48df24610",
   "metadata": {},
   "outputs": [
    {
     "name": "stdout",
     "output_type": "stream",
     "text": [
      "Hello Glenn\n",
      "Hola Sally\n",
      "Bonjour Michael\n"
     ]
    }
   ],
   "source": [
    "def greet(lang):\n",
    "    if lang == 'es':\n",
    "        return 'Hola'\n",
    "    elif lang == 'fr':\n",
    "        return 'Bonjour'\n",
    "    else:\n",
    "        return 'Hello'\n",
    "print(greet('en'),'Glenn')\n",
    "print(greet('es'),'Sally')\n",
    "print(greet('fr'),'Michael')\n"
   ]
  },
  {
   "cell_type": "markdown",
   "id": "2ce1db75-d658-4e9f-820f-67713d46130d",
   "metadata": {},
   "source": [
    "# ARGUMENTS, PARAMETERS AND RESULTS\n",
    "\n"
   ]
  },
  {
   "cell_type": "code",
   "execution_count": 111,
   "id": "1add5d15-f1ee-43ac-9472-e07b74690e02",
   "metadata": {},
   "outputs": [
    {
     "name": "stdout",
     "output_type": "stream",
     "text": [
      "w\n"
     ]
    }
   ],
   "source": [
    "big = max('Hello world')\n",
    "print(big)"
   ]
  },
  {
   "cell_type": "markdown",
   "id": "e77cbacf-8948-4eb5-a78f-9f0e0893c1fe",
   "metadata": {},
   "source": [
    "# MULTIPLE PARAMETERS / ARGUMENTS"
   ]
  },
  {
   "cell_type": "code",
   "execution_count": 108,
   "id": "0d17c6bd-8fb3-4720-83d5-c1721d846577",
   "metadata": {},
   "outputs": [
    {
     "name": "stdout",
     "output_type": "stream",
     "text": [
      "8\n"
     ]
    }
   ],
   "source": [
    "def addtwo(a, b):\n",
    "    added = a + b\n",
    "    return added\n",
    "x = addtwo(3, 5)\n",
    "print(x)\n"
   ]
  },
  {
   "cell_type": "markdown",
   "id": "1570286d-7e49-4f42-895b-f4686756a9e5",
   "metadata": {},
   "source": [
    "# CHAPTER 5 (LOOPS & ITERATIONS)"
   ]
  },
  {
   "cell_type": "markdown",
   "id": "6264bc51-0b14-458f-b127-4d2ac3ff9e9a",
   "metadata": {},
   "source": [
    "# REPEATED STEPS\n"
   ]
  },
  {
   "cell_type": "code",
   "execution_count": 128,
   "id": "7cfe03ed-650d-4aa0-9ed9-89693e3ff315",
   "metadata": {},
   "outputs": [
    {
     "name": "stdout",
     "output_type": "stream",
     "text": [
      "5\n",
      "4\n",
      "3\n",
      "2\n",
      "1\n",
      "Blastoff!\n",
      "0\n"
     ]
    }
   ],
   "source": [
    "n = 5\n",
    "while n > 0 :\n",
    "   print(n)\n",
    "   n = n - 1\n",
    "print('Blastoff!')\n",
    "print(n)\n"
   ]
  },
  {
   "cell_type": "raw",
   "id": "31f90093-dae7-48d0-9f54-69317a824608",
   "metadata": {},
   "source": [
    " AN INFINITE LOOP"
   ]
  },
  {
   "cell_type": "code",
   "execution_count": 129,
   "id": "e8a693dc-35a8-47a6-8ab6-f4eb927d772e",
   "metadata": {},
   "outputs": [
    {
     "name": "stdout",
     "output_type": "stream",
     "text": [
      "Dry off!\n"
     ]
    }
   ],
   "source": [
    "n = 0\n",
    "while n > 0 :\n",
    "    print('Lather')\n",
    "    print('Rinse')\n",
    "print('Dry off!')"
   ]
  },
  {
   "cell_type": "markdown",
   "id": "847fb468-f5e6-4746-beaf-2c1985d2663a",
   "metadata": {},
   "source": [
    "# BREAKING OUT OF A LOOP (BREAK)\n",
    "\n"
   ]
  },
  {
   "cell_type": "code",
   "execution_count": 141,
   "id": "79abb613-d465-497a-912b-d283d52a0620",
   "metadata": {},
   "outputs": [
    {
     "name": "stdout",
     "output_type": "stream",
     "text": [
      ">  hello there\n"
     ]
    },
    {
     "name": "stdout",
     "output_type": "stream",
     "text": [
      "hello there\n"
     ]
    },
    {
     "name": "stdout",
     "output_type": "stream",
     "text": [
      ">  finished\n"
     ]
    },
    {
     "name": "stdout",
     "output_type": "stream",
     "text": [
      "finished\n"
     ]
    },
    {
     "name": "stdout",
     "output_type": "stream",
     "text": [
      ">  done\n"
     ]
    },
    {
     "name": "stdout",
     "output_type": "stream",
     "text": [
      "Done!\n"
     ]
    }
   ],
   "source": [
    "while True:\n",
    "    line = input('> ')\n",
    "    if line == 'done' :\n",
    "      break\n",
    "    print(line)\n",
    "print('Done!')\n",
    "\n",
    "\n",
    "\n"
   ]
  },
  {
   "cell_type": "code",
   "execution_count": 143,
   "id": "e3b26ad7-5e7d-4673-866b-7450723b7253",
   "metadata": {},
   "outputs": [
    {
     "name": "stdout",
     "output_type": "stream",
     "text": [
      ">  NO\n"
     ]
    },
    {
     "name": "stdout",
     "output_type": "stream",
     "text": [
      "NO\n"
     ]
    },
    {
     "name": "stdout",
     "output_type": "stream",
     "text": [
      ">  done\n"
     ]
    },
    {
     "name": "stdout",
     "output_type": "stream",
     "text": [
      "Done!\n"
     ]
    }
   ],
   "source": [
    "while True:\n",
    "    line = input('> ')\n",
    "    if line == 'done' :\n",
    "      break\n",
    "    print(line)\n",
    "print('Done!')\n",
    "\n"
   ]
  },
  {
   "cell_type": "markdown",
   "id": "4281dd1c-ad86-4fe8-89c3-e5d1d8c4ea6a",
   "metadata": {},
   "source": [
    "# CONTINUE "
   ]
  },
  {
   "cell_type": "code",
   "execution_count": 144,
   "id": "284500e0-3456-4d9b-96b4-653cb63b1acd",
   "metadata": {},
   "outputs": [
    {
     "name": "stdout",
     "output_type": "stream",
     "text": [
      ">  hello there\n"
     ]
    },
    {
     "name": "stdout",
     "output_type": "stream",
     "text": [
      "hello there\n"
     ]
    },
    {
     "name": "stdout",
     "output_type": "stream",
     "text": [
      ">  # dont print this\n",
      ">  print this\n"
     ]
    },
    {
     "name": "stdout",
     "output_type": "stream",
     "text": [
      "print this\n"
     ]
    },
    {
     "name": "stdout",
     "output_type": "stream",
     "text": [
      ">  done\n"
     ]
    },
    {
     "name": "stdout",
     "output_type": "stream",
     "text": [
      "Done!\n"
     ]
    }
   ],
   "source": [
    "while True:\n",
    "   line = input('> ')\n",
    "   if line[0] == '#' :\n",
    "     continue\n",
    "   if line == 'done' :\n",
    "     break\n",
    "   print(line)\n",
    "print('Done!')"
   ]
  },
  {
   "cell_type": "markdown",
   "id": "a5e7d77c-eaa0-44c0-801e-4290bf28de0d",
   "metadata": {},
   "source": [
    "# INDEFINITE LOOP\n",
    "# DEFINITE LOOP\n",
    "# A SIMPLE DEFINITE LOOP"
   ]
  },
  {
   "cell_type": "code",
   "execution_count": 145,
   "id": "8e23cda3-8397-49c0-a3c3-a319e1afcce7",
   "metadata": {},
   "outputs": [
    {
     "name": "stdout",
     "output_type": "stream",
     "text": [
      "5\n",
      "4\n",
      "3\n",
      "2\n",
      "1\n",
      "Blastoff!\n"
     ]
    }
   ],
   "source": [
    "for i in [5, 4, 3, 2, 1] :\n",
    "    print(i)\n",
    "print('Blastoff!')\n",
    "   "
   ]
  },
  {
   "cell_type": "raw",
   "id": "6061815e-c322-4c7e-9c35-c10fb863c356",
   "metadata": {},
   "source": [
    "DEFINITE LOOP WITH STRINGS"
   ]
  },
  {
   "cell_type": "code",
   "execution_count": 146,
   "id": "7f63cfcc-0667-4494-9d5d-b999087b5e58",
   "metadata": {},
   "outputs": [
    {
     "name": "stdout",
     "output_type": "stream",
     "text": [
      "Happy New Year: Joseph\n",
      "Happy New Year: Glenn\n",
      "Happy New Year: Sally\n",
      "Done!\n"
     ]
    }
   ],
   "source": [
    "friends = ['Joseph', 'Glenn', 'Sally']\n",
    "for friend in friends :\n",
    "       print('Happy New Year:', friend)\n",
    "print('Done!')"
   ]
  },
  {
   "cell_type": "code",
   "execution_count": 148,
   "id": "16ba1dbc-976c-4c44-b021-b81416ddd4dd",
   "metadata": {},
   "outputs": [],
   "source": [
    "# LOOP THROUGH A SET"
   ]
  },
  {
   "cell_type": "code",
   "execution_count": 147,
   "id": "cdd424a2-90cc-4624-a556-46163dbf2d43",
   "metadata": {},
   "outputs": [
    {
     "name": "stdout",
     "output_type": "stream",
     "text": [
      "Before\n",
      "9\n",
      "41\n",
      "12\n",
      "3\n",
      "74\n",
      "15\n",
      "After\n"
     ]
    }
   ],
   "source": [
    "print('Before')\n",
    "for thing in [9, 41, 12, 3, 74, 15] :\n",
    "     print(thing)\n",
    "print('After')"
   ]
  },
  {
   "cell_type": "markdown",
   "id": "290acf2f-f4cf-4640-b172-25f08ef2e4c0",
   "metadata": {},
   "source": [
    "# FINGING THE LARGEST VALUE\n",
    "\n"
   ]
  },
  {
   "cell_type": "code",
   "execution_count": 149,
   "id": "bd24c8c1-87f0-4b1e-b554-245f8a632abd",
   "metadata": {},
   "outputs": [
    {
     "name": "stdout",
     "output_type": "stream",
     "text": [
      "Before -1\n",
      "9 9\n",
      "41 41\n",
      "41 12\n",
      "41 3\n",
      "74 74\n",
      "74 15\n",
      "After 74\n"
     ]
    }
   ],
   "source": [
    "largest_so_far = -1\n",
    "print('Before', largest_so_far)\n",
    "for the_num in [9, 41, 12, 3, 74, 15] :\n",
    "   if the_num > largest_so_far :\n",
    "    largest_so_far = the_num\n",
    "   print(largest_so_far, the_num)\n",
    "print('After', largest_so_far)"
   ]
  },
  {
   "cell_type": "markdown",
   "id": "e659600a-d76d-48aa-af05-3f9933bc7ab8",
   "metadata": {},
   "source": [
    "# COUNTING IN A LOOP"
   ]
  },
  {
   "cell_type": "code",
   "execution_count": 150,
   "id": "343d64ef-45ec-4913-a470-d45ab23b97ee",
   "metadata": {},
   "outputs": [
    {
     "name": "stdout",
     "output_type": "stream",
     "text": [
      "Before 0\n",
      "1 9\n",
      "2 41\n",
      "3 12\n",
      "4 3\n",
      "5 74\n",
      "6 15\n",
      "After 6\n"
     ]
    }
   ],
   "source": [
    "zork = 0\n",
    "print('Before', zork)\n",
    "for thing in [9, 41, 12, 3, 74, 15] :\n",
    "     zork = zork + 1\n",
    "     print(zork, thing)\n",
    "print('After', zork)      "
   ]
  },
  {
   "cell_type": "markdown",
   "id": "e9e31c2b-60b4-4177-8466-42d109d5b8cc",
   "metadata": {},
   "source": [
    "# SUMMING IN A LOOP"
   ]
  },
  {
   "cell_type": "code",
   "execution_count": 151,
   "id": "4d33b124-9f20-4574-9ed5-133e4f40dfcc",
   "metadata": {},
   "outputs": [
    {
     "name": "stdout",
     "output_type": "stream",
     "text": [
      "Before 0\n",
      "9 9\n",
      "50 41\n",
      "62 12\n",
      "65 3\n",
      "139 74\n",
      "154 15\n",
      "After 154\n"
     ]
    }
   ],
   "source": [
    "zork = 0\n",
    "print('Before', zork)\n",
    "for thing in [9, 41, 12, 3, 74, 15] :\n",
    "    zork = zork + thing\n",
    "    print(zork, thing)\n",
    "print('After', zork)"
   ]
  },
  {
   "cell_type": "markdown",
   "id": "d0677a6a-8070-4bba-aafb-3b540fae3abc",
   "metadata": {},
   "source": [
    "# FINDING THE AVERAGE IN A LOOP"
   ]
  },
  {
   "cell_type": "code",
   "execution_count": 152,
   "id": "89fc5869-b69f-4ff3-852e-4a13f5ad8605",
   "metadata": {},
   "outputs": [
    {
     "name": "stdout",
     "output_type": "stream",
     "text": [
      "Before 0 0\n",
      "1 9 9\n",
      "2 50 41\n",
      "3 62 12\n",
      "4 65 3\n",
      "5 139 74\n",
      "6 154 15\n",
      "After 6 154 25.666666666666668\n"
     ]
    }
   ],
   "source": [
    "count = 0\n",
    "sum = 0\n",
    "print('Before', count, sum)\n",
    "for value in [9, 41, 12, 3, 74, 15] :\n",
    "    count = count + 1\n",
    "    sum = sum + value\n",
    "    print(count, sum, value)\n",
    "print('After', count, sum, sum / count)  "
   ]
  },
  {
   "cell_type": "markdown",
   "id": "51787bbe-8f5e-4a25-9b31-5c22d3e3b8b3",
   "metadata": {},
   "source": [
    "# FILTERING IN A LOOP"
   ]
  },
  {
   "cell_type": "code",
   "execution_count": 153,
   "id": "59a18219-92cb-465c-96a1-65490fd14d08",
   "metadata": {},
   "outputs": [
    {
     "name": "stdout",
     "output_type": "stream",
     "text": [
      "Before\n",
      "Large number 41\n",
      "Large number 74\n",
      "After\n"
     ]
    }
   ],
   "source": [
    "print('Before')\n",
    "for value in [9, 41, 12, 3, 74, 15] :\n",
    "   if value > 20:\n",
    "    print('Large number',value)\n",
    "print('After')"
   ]
  },
  {
   "cell_type": "markdown",
   "id": "0b6fe666-82dc-464d-a3d7-7cc1cf1edf33",
   "metadata": {},
   "source": [
    "# SEARCH USING A BOOLEAN VARIABLE"
   ]
  },
  {
   "cell_type": "code",
   "execution_count": 154,
   "id": "d38908c2-d3a2-492c-87dd-d90a7bed95d2",
   "metadata": {},
   "outputs": [
    {
     "name": "stdout",
     "output_type": "stream",
     "text": [
      "Before False\n",
      "False 9\n",
      "False 41\n",
      "False 12\n",
      "True 3\n",
      "True 74\n",
      "True 15\n",
      "After True\n"
     ]
    }
   ],
   "source": [
    "found = False\n",
    "print('Before', found)\n",
    "for value in [9, 41, 12, 3, 74, 15] :\n",
    "    if value == 3 :\n",
    "     found = True\n",
    "    print(found, value)\n",
    "print('After', found)"
   ]
  },
  {
   "cell_type": "markdown",
   "id": "f48688b8-7b74-491f-b10b-538bf6553ea6",
   "metadata": {},
   "source": [
    "# FINDING THE SMALLEST VALUE"
   ]
  },
  {
   "cell_type": "code",
   "execution_count": 155,
   "id": "98f6ee3e-a19f-4834-8b53-5f7facdb2ecd",
   "metadata": {},
   "outputs": [
    {
     "name": "stdout",
     "output_type": "stream",
     "text": [
      "Before -1\n",
      "-1 9\n",
      "-1 41\n",
      "-1 12\n",
      "-1 3\n",
      "-1 74\n",
      "-1 15\n",
      "After -1\n"
     ]
    }
   ],
   "source": [
    "smallest_so_far = -1\n",
    "print('Before', smallest_so_far)\n",
    "for the_num in [9, 41, 12, 3, 74, 15] :\n",
    "     if the_num < smallest_so_far :\n",
    "       smallest_so_far = the_num\n",
    "     print(smallest_so_far, the_num)\n",
    "print('After', smallest_so_far)\n"
   ]
  },
  {
   "cell_type": "code",
   "execution_count": 157,
   "id": "7b15469f-f6fc-43c5-87e1-4f5614e78453",
   "metadata": {},
   "outputs": [
    {
     "name": "stdout",
     "output_type": "stream",
     "text": [
      "Before\n",
      "9 9\n",
      "9 41\n",
      "9 12\n",
      "3 3\n",
      "3 74\n",
      "3 15\n",
      "After 3\n"
     ]
    }
   ],
   "source": [
    "smallest = None\n",
    "print('Before')\n",
    "for value in [9, 41, 12, 3, 74, 15] :\n",
    "    if smallest is None :\n",
    "      smallest = value\n",
    "    elif value < smallest :\n",
    "      smallest = value\n",
    "    print(smallest, value)\n",
    "print('After', smallest)"
   ]
  },
  {
   "cell_type": "markdown",
   "id": "24e95135-9a67-4520-a80f-305193a5ce4c",
   "metadata": {},
   "source": [
    "# IS AND IS NOT OPERATORS"
   ]
  },
  {
   "cell_type": "code",
   "execution_count": 159,
   "id": "1e552b9d-41c3-45c5-9f5b-ea7ae3433011",
   "metadata": {},
   "outputs": [
    {
     "name": "stdout",
     "output_type": "stream",
     "text": [
      "Before\n",
      "3 3\n",
      "3 41\n",
      "3 12\n",
      "3 9\n",
      "3 74\n",
      "3 15\n",
      "After 3\n"
     ]
    }
   ],
   "source": [
    "smallest = None\n",
    "print('Before')\n",
    "for value in [3, 41, 12, 9, 74, 15] :\n",
    "     if smallest is None :\n",
    "       smallest = value\n",
    "     elif value < smallest :\n",
    "       smallest = value\n",
    "     print(smallest, value)\n",
    "print('After', smallest)"
   ]
  },
  {
   "cell_type": "markdown",
   "id": "a91401aa-8850-43c9-bc45-3213dbe8c00a",
   "metadata": {},
   "source": [
    "# CHAPTER 6 ( STRINGS)"
   ]
  },
  {
   "cell_type": "markdown",
   "id": "22c5769b-e1ea-4ab4-9066-35866734dc3e",
   "metadata": {},
   "source": [
    "# STRING DATATYPE"
   ]
  },
  {
   "cell_type": "code",
   "execution_count": 165,
   "id": "44a27fe8-6512-4911-908f-c52ddb187e64",
   "metadata": {},
   "outputs": [
    {
     "name": "stdout",
     "output_type": "stream",
     "text": [
      "Hellothere\n"
     ]
    },
    {
     "ename": "TypeError",
     "evalue": "can only concatenate str (not \"int\") to str",
     "output_type": "error",
     "traceback": [
      "\u001b[1;31m---------------------------------------------------------------------------\u001b[0m",
      "\u001b[1;31mTypeError\u001b[0m                                 Traceback (most recent call last)",
      "Cell \u001b[1;32mIn[165], line 6\u001b[0m\n\u001b[0;32m      4\u001b[0m \u001b[38;5;28mprint\u001b[39m(bob)\n\u001b[0;32m      5\u001b[0m str3 \u001b[38;5;241m=\u001b[39m \u001b[38;5;124m'\u001b[39m\u001b[38;5;124m123\u001b[39m\u001b[38;5;124m'\u001b[39m\n\u001b[1;32m----> 6\u001b[0m str3 \u001b[38;5;241m=\u001b[39m \u001b[43mstr3\u001b[49m\u001b[43m \u001b[49m\u001b[38;5;241;43m+\u001b[39;49m\u001b[43m \u001b[49m\u001b[38;5;241;43m1\u001b[39;49m\n\u001b[0;32m      7\u001b[0m x \u001b[38;5;241m=\u001b[39m \u001b[38;5;28mint\u001b[39m(str3) \u001b[38;5;241m+\u001b[39m \u001b[38;5;241m1\u001b[39m\n\u001b[0;32m      8\u001b[0m \u001b[38;5;28mprint\u001b[39m(x)\n",
      "\u001b[1;31mTypeError\u001b[0m: can only concatenate str (not \"int\") to str"
     ]
    }
   ],
   "source": [
    "str1 = \"Hello\"\n",
    "str2 = 'there'\n",
    "bob = str1 + str2\n",
    "print(bob)\n",
    "str3 = '123'\n",
    "str3 = str3 + 1\n",
    "x = int(str3) + 1\n",
    "print(x)\n",
    "\n"
   ]
  },
  {
   "cell_type": "code",
   "execution_count": 166,
   "id": "468328cf-c622-46e1-951b-534dc60511c3",
   "metadata": {},
   "outputs": [
    {
     "name": "stdout",
     "output_type": "stream",
     "text": [
      "124\n"
     ]
    }
   ],
   "source": [
    "x = int(str3) + 1\n",
    "print(x)"
   ]
  },
  {
   "cell_type": "markdown",
   "id": "b4d56e28-93a1-405d-9d8d-3ae7f1613e0f",
   "metadata": {},
   "source": [
    "# READING AND CONVERTING"
   ]
  },
  {
   "cell_type": "code",
   "execution_count": 188,
   "id": "6a53c248-5c87-40a6-9e18-e03d2e629d58",
   "metadata": {},
   "outputs": [
    {
     "name": "stdout",
     "output_type": "stream",
     "text": [
      "Enter: Chuck\n"
     ]
    },
    {
     "name": "stdout",
     "output_type": "stream",
     "text": [
      "Chuck\n"
     ]
    },
    {
     "name": "stdout",
     "output_type": "stream",
     "text": [
      "Enter: 100\n"
     ]
    },
    {
     "name": "stdout",
     "output_type": "stream",
     "text": [
      "90\n"
     ]
    }
   ],
   "source": [
    "name = input('Enter:')\n",
    "print(name)\n",
    "apple = input('Enter:')\n",
    "x = int(apple) - 10\n",
    "print(x)"
   ]
  },
  {
   "cell_type": "markdown",
   "id": "5b050918-f866-4e8f-ac01-2a4b7f0f3795",
   "metadata": {},
   "source": [
    "# LOOKING INSIDE STRINGS"
   ]
  },
  {
   "cell_type": "code",
   "execution_count": 190,
   "id": "d10592c7-aabe-4b31-ab30-0f2fac8b5763",
   "metadata": {},
   "outputs": [
    {
     "name": "stdout",
     "output_type": "stream",
     "text": [
      "a\n"
     ]
    }
   ],
   "source": [
    "fruit = 'banana'\n",
    "letter = fruit[1]\n",
    "print(letter)\n"
   ]
  },
  {
   "cell_type": "code",
   "execution_count": 191,
   "id": "6748f75f-869a-432f-aa56-6e2c2c502fdf",
   "metadata": {},
   "outputs": [
    {
     "name": "stdout",
     "output_type": "stream",
     "text": [
      "n\n"
     ]
    }
   ],
   "source": [
    "x = 3\n",
    "w = fruit[x - 1]\n",
    "print(w)"
   ]
  },
  {
   "cell_type": "markdown",
   "id": "6eb205cf-8163-447c-b74d-1fb3b702a6fe",
   "metadata": {},
   "source": [
    "# LENGTH OF A  ( len FUNCTION)"
   ]
  },
  {
   "cell_type": "code",
   "execution_count": 192,
   "id": "b0a91e38-f002-4090-8fe3-1901f11af229",
   "metadata": {},
   "outputs": [
    {
     "name": "stdout",
     "output_type": "stream",
     "text": [
      "6\n"
     ]
    }
   ],
   "source": [
    "fruit = 'banana'\n",
    "print(len(fruit))\n"
   ]
  },
  {
   "cell_type": "code",
   "execution_count": 193,
   "id": "bea1e307-a990-4211-8fd6-1f399a55f10c",
   "metadata": {},
   "outputs": [
    {
     "name": "stdout",
     "output_type": "stream",
     "text": [
      "6\n"
     ]
    }
   ],
   "source": [
    "fruit = 'banana'\n",
    "x = len(fruit)\n",
    "print(x)"
   ]
  },
  {
   "cell_type": "markdown",
   "id": "c73250cc-ff5c-4cee-b217-1b11b0e46a61",
   "metadata": {},
   "source": [
    "# LOOPING THROUGH STRING"
   ]
  },
  {
   "cell_type": "code",
   "execution_count": 194,
   "id": "1847bca8-46e0-4cb8-909f-97d1ecca74d9",
   "metadata": {},
   "outputs": [
    {
     "name": "stdout",
     "output_type": "stream",
     "text": [
      "0 b\n",
      "1 a\n",
      "2 n\n",
      "3 a\n",
      "4 n\n",
      "5 a\n"
     ]
    }
   ],
   "source": [
    "fruit = 'banana'\n",
    "index = 0\n",
    "while index < len(fruit):\n",
    "     letter = fruit[index]\n",
    "     print(index, letter)\n",
    "     index = index + 1"
   ]
  },
  {
   "cell_type": "code",
   "execution_count": 195,
   "id": "83b51674-5413-4a29-89ce-eabf7c6d2ab6",
   "metadata": {},
   "outputs": [
    {
     "name": "stdout",
     "output_type": "stream",
     "text": [
      "b\n",
      "a\n",
      "n\n",
      "a\n",
      "n\n",
      "a\n"
     ]
    }
   ],
   "source": [
    "fruit = 'banana'\n",
    "for letter in fruit:\n",
    "    print(letter)"
   ]
  },
  {
   "cell_type": "markdown",
   "id": "b9dd431d-99f2-42ec-88de-8fe51fa92cae",
   "metadata": {},
   "source": [
    "# LOOPING AND COUNTING"
   ]
  },
  {
   "cell_type": "code",
   "execution_count": 196,
   "id": "771b9510-db68-47fa-a82d-36f5672126f3",
   "metadata": {},
   "outputs": [
    {
     "name": "stdout",
     "output_type": "stream",
     "text": [
      "3\n"
     ]
    }
   ],
   "source": [
    "word = 'banana'\n",
    "count = 0\n",
    "for letter in word :\n",
    "   if letter == 'a' :\n",
    "      count = count + 1\n",
    "print(count)"
   ]
  },
  {
   "cell_type": "markdown",
   "id": "9103aef2-7335-4631-9720-457cc10d65b4",
   "metadata": {},
   "source": [
    "# LOOKING DEEP INTO IT"
   ]
  },
  {
   "cell_type": "code",
   "execution_count": 198,
   "id": "143ff1e0-6e6e-4c59-8b94-f322ff00e17c",
   "metadata": {},
   "outputs": [
    {
     "name": "stdout",
     "output_type": "stream",
     "text": [
      "b\n",
      "a\n",
      "n\n",
      "a\n",
      "n\n",
      "a\n"
     ]
    }
   ],
   "source": [
    "for letter in 'banana' :\n",
    "   print(letter)"
   ]
  },
  {
   "cell_type": "markdown",
   "id": "01cda087-e182-43e3-a399-50535d2fe6d7",
   "metadata": {},
   "source": [
    "# SLICING OF A STRING"
   ]
  },
  {
   "cell_type": "code",
   "execution_count": 204,
   "id": "9f23023f-2ff0-4c25-a8d7-a4e74b0b2fd6",
   "metadata": {},
   "outputs": [
    {
     "name": "stdout",
     "output_type": "stream",
     "text": [
      "Mont\n",
      "P\n",
      "Python\n"
     ]
    }
   ],
   "source": [
    "s = 'Monty Python'\n",
    "print(s[0:4])\n",
    "print(s[6:7])\n",
    "print(s[6:20])"
   ]
  },
  {
   "cell_type": "code",
   "execution_count": 207,
   "id": "78998975-9fed-4b49-ba6c-af28f7a2377c",
   "metadata": {},
   "outputs": [
    {
     "name": "stdout",
     "output_type": "stream",
     "text": [
      "Mo\n",
      "thon\n",
      "Monty Python\n"
     ]
    }
   ],
   "source": [
    "s = 'Monty Python'\n",
    "print(s[:2])\n",
    "print(s[8:])\n",
    "print(s[:])\n"
   ]
  },
  {
   "cell_type": "markdown",
   "id": "e01b21a1-2e39-4410-b527-b206e1390491",
   "metadata": {},
   "source": [
    "# STRING CONCATENATION"
   ]
  },
  {
   "cell_type": "code",
   "execution_count": 210,
   "id": "1fa1dfbc-5fab-479d-bc96-6c9db056a588",
   "metadata": {},
   "outputs": [
    {
     "name": "stdout",
     "output_type": "stream",
     "text": [
      "HelloThere\n"
     ]
    }
   ],
   "source": [
    "a = 'Hello'\n",
    "b = a + 'There'\n",
    "print(b)"
   ]
  },
  {
   "cell_type": "code",
   "execution_count": 211,
   "id": "0b17bb9e-5748-469d-bac5-40d5540fbe2e",
   "metadata": {},
   "outputs": [
    {
     "name": "stdout",
     "output_type": "stream",
     "text": [
      "Hello There\n"
     ]
    }
   ],
   "source": [
    "c = a + ' ' + 'There'\n",
    "print(c)"
   ]
  },
  {
   "cell_type": "markdown",
   "id": "74fe072c-51c1-46d2-be1a-1b755fbb6c65",
   "metadata": {},
   "source": [
    "# USING in AS A LOGICAL OPERATOR"
   ]
  },
  {
   "cell_type": "code",
   "execution_count": 216,
   "id": "efdfbcc9-bff9-4541-b1df-1245bda8d282",
   "metadata": {},
   "outputs": [
    {
     "name": "stdout",
     "output_type": "stream",
     "text": [
      "Found it!\n"
     ]
    }
   ],
   "source": [
    "fruit = 'banana'\n",
    "'n' in fruit\n",
    "'m' in fruit\n",
    "'nan' in fruit\n",
    "if 'a' in fruit :\n",
    "   print('Found it!')\n"
   ]
  },
  {
   "cell_type": "markdown",
   "id": "c60bf0bc-228d-4f2e-8b2f-3f41e67a81e2",
   "metadata": {},
   "source": [
    "# STRING COMPARISON\n"
   ]
  },
  {
   "cell_type": "code",
   "execution_count": 217,
   "id": "8b73cfeb-4780-4c3d-93ad-cd7681e3c7cb",
   "metadata": {},
   "outputs": [
    {
     "name": "stdout",
     "output_type": "stream",
     "text": [
      "All right, bananas.\n",
      "All right, bananas.\n"
     ]
    }
   ],
   "source": [
    "if word == 'banana':\n",
    "      print('All right, bananas.')\n",
    "if word < 'banana':\n",
    "      print('Your word,' + word + ', comes before banana.')\n",
    "elif word > 'banana':\n",
    "      print('Your word,' + word + ', comes after banana.')\n",
    "else:\n",
    "      print('All right, bananas.')"
   ]
  },
  {
   "cell_type": "markdown",
   "id": "107111e4-16af-4b96-943c-2ac4b1feffbe",
   "metadata": {},
   "source": [
    "# STRING LIBRARY\n",
    "# SEARCHING A STRING"
   ]
  },
  {
   "cell_type": "code",
   "execution_count": 225,
   "id": "4b7ea47d-d71c-4641-9eec-dda9285f67f3",
   "metadata": {},
   "outputs": [
    {
     "name": "stdout",
     "output_type": "stream",
     "text": [
      "2\n"
     ]
    }
   ],
   "source": [
    "fruit = 'banana'\n",
    ">>> pos = fruit.find('na')\n",
    ">>> print(pos)"
   ]
  },
  {
   "cell_type": "code",
   "execution_count": 226,
   "id": "057e66cd-a720-402a-9b1d-972dcb41d6f7",
   "metadata": {},
   "outputs": [
    {
     "name": "stdout",
     "output_type": "stream",
     "text": [
      "-1\n"
     ]
    }
   ],
   "source": [
    "aa = fruit.find('z')\n",
    "print(aa)"
   ]
  },
  {
   "cell_type": "markdown",
   "id": "0eab919b-77e1-43d0-8074-cd2b08929efe",
   "metadata": {},
   "source": [
    "# MAKE EVERYTHING UPPERCASE"
   ]
  },
  {
   "cell_type": "code",
   "execution_count": 227,
   "id": "d3e84822-7ae0-4f5b-8594-d052db5a1d1e",
   "metadata": {},
   "outputs": [
    {
     "name": "stdout",
     "output_type": "stream",
     "text": [
      "HELLO BOB\n"
     ]
    }
   ],
   "source": [
    "greet = 'Hello Bob'\n",
    "nnn = greet.upper()\n",
    "print(nnn)"
   ]
  },
  {
   "cell_type": "markdown",
   "id": "78c5e169-fff7-4dff-aa7d-5af7bc7a1e03",
   "metadata": {},
   "source": [
    "# MAKE EVERYTHING LOWERCASE"
   ]
  },
  {
   "cell_type": "code",
   "execution_count": 228,
   "id": "aa3ded26-bd3c-4c3c-a35a-10390d39a662",
   "metadata": {},
   "outputs": [
    {
     "name": "stdout",
     "output_type": "stream",
     "text": [
      "hello bob\n"
     ]
    }
   ],
   "source": [
    "www = greet.lower()\n",
    "print(www)"
   ]
  },
  {
   "cell_type": "markdown",
   "id": "1fceb70b-ecce-44ec-8748-1929624913b5",
   "metadata": {},
   "source": [
    "# SEARCH AND REPLACE"
   ]
  },
  {
   "cell_type": "code",
   "execution_count": 230,
   "id": "5ae6fc20-ed77-4391-964c-f263619122f2",
   "metadata": {},
   "outputs": [
    {
     "name": "stdout",
     "output_type": "stream",
     "text": [
      "Hello Jane\n",
      "HellX BXb\n"
     ]
    }
   ],
   "source": [
    "greet = 'Hello Bob'\n",
    "nstr = greet.replace('Bob','Jane')\n",
    "print(nstr)\n",
    "nstr = greet.replace('o','X')\n",
    "print(nstr)"
   ]
  },
  {
   "cell_type": "markdown",
   "id": "d6a2f0b0-aab0-441b-a59f-6ee5ca0f8aae",
   "metadata": {},
   "source": [
    "# STRIPPING WHITESPACE"
   ]
  },
  {
   "cell_type": "code",
   "execution_count": 235,
   "id": "f497246e-c2ff-46f0-b6d3-f45121ec7866",
   "metadata": {},
   "outputs": [
    {
     "data": {
      "text/plain": [
       "'Hello Bob '"
      ]
     },
     "execution_count": 235,
     "metadata": {},
     "output_type": "execute_result"
    }
   ],
   "source": [
    "greet = ' Hello Bob '\n",
    "greet.lstrip()"
   ]
  },
  {
   "cell_type": "code",
   "execution_count": 236,
   "id": "a7414eac-9fdc-4cbd-9506-7645a675c30f",
   "metadata": {},
   "outputs": [
    {
     "data": {
      "text/plain": [
       "' Hello Bob'"
      ]
     },
     "execution_count": 236,
     "metadata": {},
     "output_type": "execute_result"
    }
   ],
   "source": [
    "greet = ' Hello Bob '\n",
    ">>> greet.rstrip()"
   ]
  },
  {
   "cell_type": "code",
   "execution_count": 237,
   "id": "c6d2936d-9e08-4e4a-92f3-a76a4b496912",
   "metadata": {},
   "outputs": [
    {
     "data": {
      "text/plain": [
       "'Hello Bob'"
      ]
     },
     "execution_count": 237,
     "metadata": {},
     "output_type": "execute_result"
    }
   ],
   "source": [
    "greet = ' Hello Bob '\n",
    "greet.strip()"
   ]
  },
  {
   "cell_type": "markdown",
   "id": "d6d91773-e800-44f4-a9c3-6395ee5d8506",
   "metadata": {},
   "source": [
    "# PREFIXES"
   ]
  },
  {
   "cell_type": "code",
   "execution_count": 238,
   "id": "7a906985-705c-474b-95e4-93403b46cbc7",
   "metadata": {},
   "outputs": [
    {
     "data": {
      "text/plain": [
       "True"
      ]
     },
     "execution_count": 238,
     "metadata": {},
     "output_type": "execute_result"
    }
   ],
   "source": [
    "line = 'Please have a nice day'\n",
    "line.startswith('Please')"
   ]
  },
  {
   "cell_type": "code",
   "execution_count": 239,
   "id": "8c3b9b3c-be88-4e20-bc2c-2c6242f3a205",
   "metadata": {},
   "outputs": [
    {
     "data": {
      "text/plain": [
       "False"
      ]
     },
     "execution_count": 239,
     "metadata": {},
     "output_type": "execute_result"
    }
   ],
   "source": [
    "line.startswith('p')"
   ]
  },
  {
   "cell_type": "code",
   "execution_count": 240,
   "id": "96038eaf-9da9-440a-a392-722d112788a0",
   "metadata": {},
   "outputs": [
    {
     "name": "stdout",
     "output_type": "stream",
     "text": [
      "21\n"
     ]
    }
   ],
   "source": [
    "data = 'From stephen.marquard@uct.ac.za Sat Jan 5 09:14:16 2008'\n",
    "atpos = data.find('@')\n",
    "print(atpos)"
   ]
  },
  {
   "cell_type": "code",
   "execution_count": 241,
   "id": "988c02cf-1d23-4c4c-9105-e6c9af0157a5",
   "metadata": {},
   "outputs": [
    {
     "name": "stdout",
     "output_type": "stream",
     "text": [
      "31\n"
     ]
    }
   ],
   "source": [
    "sppos = data.find(' ',atpos)\n",
    ">>> print(sppos)"
   ]
  },
  {
   "cell_type": "code",
   "execution_count": null,
   "id": "928bf5a3-f387-42f2-8ac5-fc40999c2360",
   "metadata": {},
   "outputs": [],
   "source": []
  }
 ],
 "metadata": {
  "kernelspec": {
   "display_name": "Python 3 (ipykernel)",
   "language": "python",
   "name": "python3"
  },
  "language_info": {
   "codemirror_mode": {
    "name": "ipython",
    "version": 3
   },
   "file_extension": ".py",
   "mimetype": "text/x-python",
   "name": "python",
   "nbconvert_exporter": "python",
   "pygments_lexer": "ipython3",
   "version": "3.11.4"
  }
 },
 "nbformat": 4,
 "nbformat_minor": 5
}
