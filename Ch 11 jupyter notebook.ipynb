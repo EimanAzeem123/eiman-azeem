{
 "cells": [
  {
   "cell_type": "markdown",
   "id": "fdaac1d9-54dd-42e9-910a-ffa2941e85c3",
   "metadata": {},
   "source": [
    "# CHAPTER 11(OOP)"
   ]
  },
  {
   "cell_type": "markdown",
   "id": "88f0b85e-d63b-4371-ba93-fd44d633c222",
   "metadata": {},
   "source": [
    "# Dot Notations"
   ]
  },
  {
   "cell_type": "code",
   "execution_count": 4,
   "id": "f18a33f7-33e3-416b-82b6-0ea85df1a2ab",
   "metadata": {},
   "outputs": [
    {
     "name": "stdout",
     "output_type": "stream",
     "text": [
      "red\n",
      "sweet\n",
      "RED\n"
     ]
    }
   ],
   "source": [
    "class Apple:\n",
    "    pass\n",
    "    class Apple:\n",
    "        color= \"\"\n",
    "        flavor=\"\"\n",
    "\n",
    "jonagold = Apple()\n",
    "jonagold.color= \"red\"\n",
    "jonagold.flavor=\"sweet\"\n",
    "print(jonagold.color)\n",
    "print(jonagold.flavor)\n",
    "print(jonagold.color.upper())"
   ]
  },
  {
   "cell_type": "markdown",
   "id": "1d4daf93-cf7b-484d-b085-56b3c5831e84",
   "metadata": {},
   "source": [
    "# Instance Methods"
   ]
  },
  {
   "cell_type": "code",
   "execution_count": 2,
   "id": "0f964f1a-4f99-45d7-bdcc-c3d4bb78e89c",
   "metadata": {},
   "outputs": [
    {
     "data": {
      "text/plain": [
       "24"
      ]
     },
     "execution_count": 2,
     "metadata": {},
     "output_type": "execute_result"
    }
   ],
   "source": [
    "class Cat:\n",
    "    years = 0\n",
    "    def age(self):\n",
    "        return self.years *12\n",
    "myluna = Cat()\n",
    "myluna.years = 2\n",
    "myluna.age()"
   ]
  },
  {
   "cell_type": "markdown",
   "id": "29229479-6137-4533-9799-a0d60f3bb1d7",
   "metadata": {},
   "source": [
    "# Passing attributes of class to object"
   ]
  },
  {
   "cell_type": "code",
   "execution_count": 3,
   "id": "3453f109-847b-405f-b622-cce47e4b573d",
   "metadata": {},
   "outputs": [
    {
     "name": "stdout",
     "output_type": "stream",
     "text": [
      "Roses are red,\n",
      "violets are blue,\n",
      "sugar is sweet, and so are you.\n"
     ]
    }
   ],
   "source": [
    "class Flower:\n",
    "    color = 'unknown'\n",
    "\n",
    "\n",
    "rose = Flower()\n",
    "rose.color = \"red\"\n",
    "\n",
    "violet = Flower()\n",
    "violet.color = \"blue\"\n",
    "\n",
    "this_pun_is_for_you = \"sugar is sweet, and so are you.\"\n",
    "\n",
    "print(\"Roses are {},\".format(rose.color))\n",
    "print(\"violets are {},\".format(violet.color))\n",
    "print(this_pun_is_for_you)"
   ]
  },
  {
   "cell_type": "code",
   "execution_count": 3,
   "id": "e0ac1f4d-d323-41d7-8518-a649c801eaf4",
   "metadata": {},
   "outputs": [
    {
     "name": "stdout",
     "output_type": "stream",
     "text": [
      "Roses are red,\n",
      "violets are blue,\n",
      "sugar is sweet, and so are you.\n"
     ]
    }
   ],
   "source": [
    "class Flower:\n",
    "    color = 'unknown'\n",
    "\n",
    "\n",
    "rose = Flower()\n",
    "rose.color = \"red\"\n",
    "\n",
    "violet = Flower()\n",
    "violet.color = \"blue\"\n",
    "\n",
    "this_pun_is_for_you = \"sugar is sweet, and so are you.\"\n",
    "\n",
    "print(\"Roses are {},\".format(rose.color))\n",
    "print(\"violets are {},\".format(violet.color))\n",
    "print(this_pun_is_for_you)"
   ]
  },
  {
   "cell_type": "markdown",
   "id": "b0a4a133-57c7-47eb-acf1-50de4f288ae5",
   "metadata": {},
   "source": [
    "# speak (the passing function)"
   ]
  },
  {
   "cell_type": "code",
   "execution_count": 1,
   "id": "5f61324a-49d0-4bfe-ae43-3f418de925d5",
   "metadata": {},
   "outputs": [
    {
     "name": "stdout",
     "output_type": "stream",
     "text": [
      "Meow! i'm Luna! Meow\n",
      "Meow! i'm Bella! Meow\n"
     ]
    }
   ],
   "source": [
    "class Cat:\n",
    "    name = \"\"\n",
    "    def speak(self):\n",
    "        print(\"Meow! i'm {}! Meow\".format (self.name))\n",
    "myluna = Cat()\n",
    "myluna.name = \"Luna\"\n",
    "myluna.speak()\n",
    "\n",
    "mybella = Cat()\n",
    "mybella.name = \"Bella\"\n",
    "mybella.speak()"
   ]
  },
  {
   "cell_type": "markdown",
   "id": "c12a877b-7b47-4244-8278-338b903d98c9",
   "metadata": {},
   "source": [
    "# special function"
   ]
  },
  {
   "cell_type": "code",
   "execution_count": 6,
   "id": "d8697e25-69e6-428b-89ee-93a5e44e3348",
   "metadata": {},
   "outputs": [
    {
     "name": "stdout",
     "output_type": "stream",
     "text": [
      "red\n",
      "<__main__.Apple object at 0x0000024541E67E10>\n"
     ]
    }
   ],
   "source": [
    "class Apple: \n",
    "    def __init__(self, color, flavor):\n",
    "       self.color = color\n",
    "       self.flavor = flavor\n",
    "\n",
    "jonagold = Apple(\"red\",\"sweet\")\n",
    "print(jonagold.color)\n",
    "print(jonagold)\n"
   ]
  },
  {
   "cell_type": "code",
   "execution_count": 14,
   "id": "6316d036-819f-47a9-853a-d3efea8c5be2",
   "metadata": {},
   "outputs": [
    {
     "name": "stdout",
     "output_type": "stream",
     "text": [
      "This apple is red and its flavor is sweet\n"
     ]
    }
   ],
   "source": [
    "class Apple:\n",
    "    def __init__(self, color, flavor):\n",
    "        self.color = color\n",
    "        self.flavor = flavor\n",
    "    def __str__(self):\n",
    "        return \"This apple is {} and its flavor is {}\".format(self.color, self.flavor)\n",
    "jonagold = Apple(\"red\", \"sweet\")\n",
    "print(jonagold)\n",
    "\n",
    "        "
   ]
  },
  {
   "cell_type": "markdown",
   "id": "2f3732da-9e4f-4c36-a6f3-0034d338f79c",
   "metadata": {},
   "source": [
    "# help function"
   ]
  },
  {
   "cell_type": "code",
   "execution_count": 7,
   "id": "158cb417-9ac3-4c3f-a257-3ad766adde68",
   "metadata": {},
   "outputs": [
    {
     "name": "stdout",
     "output_type": "stream",
     "text": [
      "Help on class Apple in module __main__:\n",
      "\n",
      "class Apple(builtins.object)\n",
      " |  Apple(color, flavor)\n",
      " |  \n",
      " |  hello\n",
      " |  \n",
      " |  Methods defined here:\n",
      " |  \n",
      " |  __init__(self, color, flavor)\n",
      " |      Initialize self.  See help(type(self)) for accurate signature.\n",
      " |  \n",
      " |  __str__(self)\n",
      " |      Return str(self).\n",
      " |  \n",
      " |  ----------------------------------------------------------------------\n",
      " |  Data descriptors defined here:\n",
      " |  \n",
      " |  __dict__\n",
      " |      dictionary for instance variables (if defined)\n",
      " |  \n",
      " |  __weakref__\n",
      " |      list of weak references to the object (if defined)\n",
      "\n"
     ]
    }
   ],
   "source": [
    "class Apple:\n",
    "    \"\"\"hello\"\"\"\n",
    "    def __init__(self, color, flavor):\n",
    "        self.color = color\n",
    "        self.flavor = flavor\n",
    "    def __str__(self):\n",
    "        return \"This apple is {} and its flavor is {}\".format(self.color, self.flavor)\n",
    "help(Apple)\n",
    "\n",
    "\n",
    "\n",
    "\n",
    "        "
   ]
  },
  {
   "cell_type": "markdown",
   "id": "06363b88-ff70-433e-a395-a4e5a1dcf565",
   "metadata": {},
   "source": [
    "# Speak (Self) Function"
   ]
  },
  {
   "cell_type": "code",
   "execution_count": 11,
   "id": "5455bf49-5f2f-4bcd-8ebe-bbb935d92c35",
   "metadata": {},
   "outputs": [
    {
     "name": "stdout",
     "output_type": "stream",
     "text": [
      "Meow! I'm Luna! Meow!\n"
     ]
    }
   ],
   "source": [
    "class Animal:\n",
    "    sound = \"\"\n",
    "    def __init__(self, name):\n",
    "           self.name = name\n",
    "    def speak(self):\n",
    "        print(\"{sound} I'm {name}! {sound}\".format(name=self.name, sound=self.sound))\n",
    "\n",
    "class Cat(Animal):\n",
    "    sound = \"Meow!\"\n",
    "\n",
    "myLuna = Cat(\"Luna\")\n",
    "myLuna.speak()\n",
    "\n"
   ]
  },
  {
   "cell_type": "markdown",
   "id": "115b6a47-f44c-4908-87da-d0711cfe546d",
   "metadata": {},
   "source": [
    "# Constructer & Destructer init and str function (INHERITANCE)"
   ]
  },
  {
   "cell_type": "code",
   "execution_count": 13,
   "id": "674bb5d9-d554-4dfd-bf94-278905a468d6",
   "metadata": {},
   "outputs": [
    {
     "name": "stdout",
     "output_type": "stream",
     "text": [
      "Meow! I'm Luna! Meow!\n",
      "Moooooooooo I'm Fat! Moooooooooo\n"
     ]
    }
   ],
   "source": [
    "class Animal:\n",
    "    sound = \"\"\n",
    "    def __init__(self, name):\n",
    "           self.name = name\n",
    "    def speak(self):\n",
    "        print(\"{sound} I'm {name}! {sound}\".format(name=self.name, sound=self.sound))\n",
    "\n",
    "class Cat(Animal):\n",
    "    sound = \"Meow!\"\n",
    "\n",
    "myLuna = Cat(\"Luna\")\n",
    "myLuna.speak() \n",
    "\n",
    "class Cow(Animal):\n",
    "    sound = \"Moooooooooo\"\n",
    "\n",
    "myCow = Cow(\"Fat\")\n",
    "myCow.speak()\n",
    "\n"
   ]
  },
  {
   "cell_type": "code",
   "execution_count": 21,
   "id": "c8ff1999-8e9a-4a4b-ad7e-b403a47bfbe8",
   "metadata": {},
   "outputs": [
    {
     "name": "stdout",
     "output_type": "stream",
     "text": [
      "This Polo is made of Cotton\n"
     ]
    }
   ],
   "source": [
    "class Clothing:\n",
    "    material = \"\"\n",
    "    def  __init__(self,name):\n",
    "        self.name = name\n",
    "    def checkmaterial(self):\n",
    "        print(\"This {} is made of {}\".format(self.name,self.material))\n",
    "\n",
    "class Shirt(Clothing):\n",
    "    material = \"Cotton\"\n",
    "\n",
    "polo = Shirt(\"Polo\")\n",
    "polo.checkmaterial()\n",
    "\n",
    "\n",
    "      "
   ]
  },
  {
   "cell_type": "code",
   "execution_count": null,
   "id": "2f42df96-0240-43c4-90fd-5aeec650aeb0",
   "metadata": {},
   "outputs": [],
   "source": []
  }
 ],
 "metadata": {
  "kernelspec": {
   "display_name": "Python 3 (ipykernel)",
   "language": "python",
   "name": "python3"
  },
  "language_info": {
   "codemirror_mode": {
    "name": "ipython",
    "version": 3
   },
   "file_extension": ".py",
   "mimetype": "text/x-python",
   "name": "python",
   "nbconvert_exporter": "python",
   "pygments_lexer": "ipython3",
   "version": "3.11.4"
  }
 },
 "nbformat": 4,
 "nbformat_minor": 5
}
