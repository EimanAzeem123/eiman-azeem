{
 "cells": [
  {
   "cell_type": "markdown",
   "id": "90941376-4a19-4fb9-aa76-7ee3a2780cc2",
   "metadata": {},
   "source": [
    "# CHAPTER 7 (READING FILES)"
   ]
  },
  {
   "cell_type": "code",
   "execution_count": 4,
   "id": "3e1818a3-917d-436b-8920-5f9b846f8127",
   "metadata": {},
   "outputs": [
    {
     "name": "stdout",
     "output_type": "stream",
     "text": [
      "<_io.TextIOWrapper name='test.txt' mode='r' encoding='cp1252'>\n"
     ]
    }
   ],
   "source": [
    "fhand=open('test.txt')\n",
    "print(fhand)"
   ]
  },
  {
   "cell_type": "markdown",
   "id": "a42df654-4739-4bf9-9dd1-192d70cecff4",
   "metadata": {},
   "source": [
    "# MISSING FILES"
   ]
  },
  {
   "cell_type": "code",
   "execution_count": 5,
   "id": "479253bf-91ae-49cd-82fc-314c52cf77bf",
   "metadata": {},
   "outputs": [
    {
     "ename": "FileNotFoundError",
     "evalue": "[Errno 2] No such file or directory: 'stuff.txt'",
     "output_type": "error",
     "traceback": [
      "\u001b[1;31m---------------------------------------------------------------------------\u001b[0m",
      "\u001b[1;31mFileNotFoundError\u001b[0m                         Traceback (most recent call last)",
      "Cell \u001b[1;32mIn[5], line 1\u001b[0m\n\u001b[1;32m----> 1\u001b[0m fhand \u001b[38;5;241m=\u001b[39m \u001b[38;5;28;43mopen\u001b[39;49m\u001b[43m(\u001b[49m\u001b[38;5;124;43m'\u001b[39;49m\u001b[38;5;124;43mstuff.txt\u001b[39;49m\u001b[38;5;124;43m'\u001b[39;49m\u001b[43m)\u001b[49m\n",
      "File \u001b[1;32m~\\AppData\\Local\\Programs\\Python\\Python311\\Lib\\site-packages\\IPython\\core\\interactiveshell.py:286\u001b[0m, in \u001b[0;36m_modified_open\u001b[1;34m(file, *args, **kwargs)\u001b[0m\n\u001b[0;32m    279\u001b[0m \u001b[38;5;28;01mif\u001b[39;00m file \u001b[38;5;129;01min\u001b[39;00m {\u001b[38;5;241m0\u001b[39m, \u001b[38;5;241m1\u001b[39m, \u001b[38;5;241m2\u001b[39m}:\n\u001b[0;32m    280\u001b[0m     \u001b[38;5;28;01mraise\u001b[39;00m \u001b[38;5;167;01mValueError\u001b[39;00m(\n\u001b[0;32m    281\u001b[0m         \u001b[38;5;124mf\u001b[39m\u001b[38;5;124m\"\u001b[39m\u001b[38;5;124mIPython won\u001b[39m\u001b[38;5;124m'\u001b[39m\u001b[38;5;124mt let you open fd=\u001b[39m\u001b[38;5;132;01m{\u001b[39;00mfile\u001b[38;5;132;01m}\u001b[39;00m\u001b[38;5;124m by default \u001b[39m\u001b[38;5;124m\"\u001b[39m\n\u001b[0;32m    282\u001b[0m         \u001b[38;5;124m\"\u001b[39m\u001b[38;5;124mas it is likely to crash IPython. If you know what you are doing, \u001b[39m\u001b[38;5;124m\"\u001b[39m\n\u001b[0;32m    283\u001b[0m         \u001b[38;5;124m\"\u001b[39m\u001b[38;5;124myou can use builtins\u001b[39m\u001b[38;5;124m'\u001b[39m\u001b[38;5;124m open.\u001b[39m\u001b[38;5;124m\"\u001b[39m\n\u001b[0;32m    284\u001b[0m     )\n\u001b[1;32m--> 286\u001b[0m \u001b[38;5;28;01mreturn\u001b[39;00m \u001b[43mio_open\u001b[49m\u001b[43m(\u001b[49m\u001b[43mfile\u001b[49m\u001b[43m,\u001b[49m\u001b[43m \u001b[49m\u001b[38;5;241;43m*\u001b[39;49m\u001b[43margs\u001b[49m\u001b[43m,\u001b[49m\u001b[43m \u001b[49m\u001b[38;5;241;43m*\u001b[39;49m\u001b[38;5;241;43m*\u001b[39;49m\u001b[43mkwargs\u001b[49m\u001b[43m)\u001b[49m\n",
      "\u001b[1;31mFileNotFoundError\u001b[0m: [Errno 2] No such file or directory: 'stuff.txt'"
     ]
    }
   ],
   "source": [
    "fhand = open('stuff.txt')\n"
   ]
  },
  {
   "cell_type": "markdown",
   "id": "381575d1-5f81-4e6a-9b54-181cde66eb54",
   "metadata": {},
   "source": [
    "# NEW LINE CHARACTER"
   ]
  },
  {
   "cell_type": "code",
   "execution_count": 6,
   "id": "09664a60-abd8-4134-89e4-1182d1fd317a",
   "metadata": {},
   "outputs": [
    {
     "data": {
      "text/plain": [
       "'Hello\\nWorld!'"
      ]
     },
     "execution_count": 6,
     "metadata": {},
     "output_type": "execute_result"
    }
   ],
   "source": [
    "stuff = 'Hello\\nWorld!'\n",
    "stuff"
   ]
  },
  {
   "cell_type": "code",
   "execution_count": 7,
   "id": "93272092-f95f-4997-870c-1357e6be44a5",
   "metadata": {},
   "outputs": [
    {
     "name": "stdout",
     "output_type": "stream",
     "text": [
      "Hello\n",
      "World!\n"
     ]
    }
   ],
   "source": [
    "print(stuff)\n",
    "\n"
   ]
  },
  {
   "cell_type": "code",
   "execution_count": 8,
   "id": "f743047d-ed3a-4c9d-b064-d50db80dc9a2",
   "metadata": {},
   "outputs": [
    {
     "name": "stdout",
     "output_type": "stream",
     "text": [
      "X\n",
      "Y\n"
     ]
    }
   ],
   "source": [
    "stuff = 'X\\nY'\n",
    "print(stuff)\n",
    "\n"
   ]
  },
  {
   "cell_type": "code",
   "execution_count": 9,
   "id": "ad54616a-10b4-444b-af03-2c3cc321931d",
   "metadata": {},
   "outputs": [
    {
     "data": {
      "text/plain": [
       "3"
      ]
     },
     "execution_count": 9,
     "metadata": {},
     "output_type": "execute_result"
    }
   ],
   "source": [
    "len(stuff)\n"
   ]
  },
  {
   "cell_type": "markdown",
   "id": "37fc875c-f99d-4a75-b2c8-72ac0c908a7e",
   "metadata": {},
   "source": [
    "# file handle as a sequence"
   ]
  },
  {
   "cell_type": "code",
   "execution_count": 14,
   "id": "f2760759-eb79-4ae1-8fe6-3cec5cbfa661",
   "metadata": {},
   "outputs": [
    {
     "name": "stdout",
     "output_type": "stream",
     "text": [
      "import jjl.txt as jl\n",
      "\n"
     ]
    }
   ],
   "source": [
    "xfile = open('test.txt')\n",
    "for cheese in xfile:\n",
    "    print(cheese)"
   ]
  },
  {
   "cell_type": "markdown",
   "id": "961c3f93-25dc-4d8b-bef6-55fa6471411b",
   "metadata": {},
   "source": [
    "# counting lines in a file"
   ]
  },
  {
   "cell_type": "code",
   "execution_count": 27,
   "id": "ae0adc88-267e-4e41-aef0-6c32e90b6f95",
   "metadata": {},
   "outputs": [
    {
     "name": "stdout",
     "output_type": "stream",
     "text": [
      "Line Count: 1\n"
     ]
    }
   ],
   "source": [
    "fhand = open('test.txt')\n",
    "count = 0\n",
    "for line in fhand:\n",
    "    count = count + 1\n",
    "print('Line Count:', count)\n",
    "\n",
    "\n"
   ]
  },
  {
   "cell_type": "markdown",
   "id": "81bbd2d0-da0e-4d5f-ac48-bd2431a124a2",
   "metadata": {},
   "source": [
    "# reading the *whole* file"
   ]
  },
  {
   "cell_type": "code",
   "execution_count": 54,
   "id": "3c1a4acb-838e-4975-a9f6-23f0b0f8359e",
   "metadata": {},
   "outputs": [
    {
     "name": "stdout",
     "output_type": "stream",
     "text": [
      "27\n",
      "From: import jjl.txt\n"
     ]
    }
   ],
   "source": [
    "fhand = open('test.txt')\n",
    "inp = fhand.read()\n",
    "print(len(inp))\n",
    "print(inp[:20])\n",
    " "
   ]
  },
  {
   "cell_type": "markdown",
   "id": "36cb9dd6-11ef-4e32-bf51-479701999090",
   "metadata": {},
   "source": [
    "# searching through a file"
   ]
  },
  {
   "cell_type": "code",
   "execution_count": 44,
   "id": "14503556-8bfd-43f5-b2a1-59ecddf07252",
   "metadata": {},
   "outputs": [
    {
     "name": "stdout",
     "output_type": "stream",
     "text": [
      "From: import jjl.txt as jl\n",
      "\n"
     ]
    }
   ],
   "source": [
    "fhand = open('test.txt')\n",
    "for line in fhand:\n",
    "    if line.startswith('From:') :\n",
    "       print(line)"
   ]
  },
  {
   "cell_type": "markdown",
   "id": "289e5259-1e31-4ffa-b632-fc4cad2ab453",
   "metadata": {},
   "source": [
    "# searching through a file(fixed)"
   ]
  },
  {
   "cell_type": "code",
   "execution_count": 47,
   "id": "dd70fe14-ad6d-4599-b89c-2ff9aac911d5",
   "metadata": {},
   "outputs": [
    {
     "name": "stdout",
     "output_type": "stream",
     "text": [
      "From: import jjl.txt as jl\n"
     ]
    }
   ],
   "source": [
    "fhand = open('test.txt')\n",
    "for line in fhand:\n",
    "     line = line.rstrip()\n",
    "     if line.startswith('From:') :\n",
    "       print(line)"
   ]
  },
  {
   "cell_type": "markdown",
   "id": "5d002fdf-f8bd-4e60-8047-5dafdb810fd5",
   "metadata": {},
   "source": [
    "# skipping wth continue"
   ]
  },
  {
   "cell_type": "code",
   "execution_count": 49,
   "id": "9999cb84-c1a8-44fe-93a2-dc75d1deea1c",
   "metadata": {},
   "outputs": [
    {
     "name": "stdout",
     "output_type": "stream",
     "text": [
      "From: import jjl.txt as jl\n"
     ]
    }
   ],
   "source": [
    "fhand = open('test.txt')\n",
    "for line in fhand:\n",
    "       line = line.rstrip()\n",
    "       if not line.startswith('From:') :\n",
    "         continue\n",
    "       print(line)"
   ]
  },
  {
   "cell_type": "markdown",
   "id": "ee1c4c87-091d-4070-9c9c-8cbad5caeacf",
   "metadata": {},
   "source": [
    "# using in to select lines"
   ]
  },
  {
   "cell_type": "code",
   "execution_count": 52,
   "id": "3e9548a4-3e1e-4979-8563-04bc0253070d",
   "metadata": {},
   "outputs": [],
   "source": [
    "fhand = open('test.txt')\n",
    "for line in fhand:\n",
    "     line = line.rstrip()\n",
    "     if not '@uct.ac.za' in line :\n",
    "        continue\n",
    "     print(line)\n"
   ]
  },
  {
   "cell_type": "markdown",
   "id": "6d2c45f6-2c35-47e7-8c8c-822041e8121b",
   "metadata": {},
   "source": [
    "# prompt for file name"
   ]
  },
  {
   "cell_type": "code",
   "execution_count": 53,
   "id": "4cd51bab-beac-459a-8f64-824421f8c0fc",
   "metadata": {},
   "outputs": [
    {
     "name": "stdout",
     "output_type": "stream",
     "text": [
      "Enter the file name:  test.txt\n"
     ]
    },
    {
     "name": "stdout",
     "output_type": "stream",
     "text": [
      "There were 0 subject lines in test.txt\n"
     ]
    }
   ],
   "source": [
    "fname = input('Enter the file name: ')\n",
    "fhand = open(fname)\n",
    "count = 0\n",
    "for line in fhand:\n",
    "     if line.startswith('Subject:') :\n",
    "         count = count + 1\n",
    "print('There were', count, 'subject lines in', fname)\n"
   ]
  },
  {
   "cell_type": "markdown",
   "id": "bf0f5abe-d94d-4bb8-b095-63293a51bbe8",
   "metadata": {},
   "source": [
    "# chapter 8 (python lists)"
   ]
  },
  {
   "cell_type": "markdown",
   "id": "256dfeff-90e4-4352-b75f-0fd3db5d3338",
   "metadata": {},
   "source": [
    "# what is not a collection"
   ]
  },
  {
   "cell_type": "code",
   "execution_count": 57,
   "id": "ed47cc08-98f8-4256-822d-0bf9fc2efeea",
   "metadata": {},
   "outputs": [
    {
     "name": "stdout",
     "output_type": "stream",
     "text": [
      "4\n"
     ]
    }
   ],
   "source": [
    "\n",
    "   x = 2\n",
    "   x = 4\n",
    "   print(x)\n"
   ]
  },
  {
   "cell_type": "markdown",
   "id": "dc02d000-eb9b-4d80-a8e6-560c00ba1a29",
   "metadata": {},
   "source": [
    "# lists (lists constants)"
   ]
  },
  {
   "cell_type": "code",
   "execution_count": 58,
   "id": "3534b2bb-b83b-4e33-8d53-5d408e185ea2",
   "metadata": {},
   "outputs": [
    {
     "name": "stdout",
     "output_type": "stream",
     "text": [
      "[1, 24, 76]\n"
     ]
    }
   ],
   "source": [
    "print([1, 24, 76])\n"
   ]
  },
  {
   "cell_type": "code",
   "execution_count": 59,
   "id": "e68e98bf-7e26-4f9c-9fc9-fdd4cd4a54db",
   "metadata": {},
   "outputs": [
    {
     "name": "stdout",
     "output_type": "stream",
     "text": [
      "['red', 'yellow', 'blue']\n"
     ]
    }
   ],
   "source": [
    "print(['red', 'yellow',\n",
    "'blue'])"
   ]
  },
  {
   "cell_type": "code",
   "execution_count": 60,
   "id": "3d240581-1549-4f9e-98ff-35d4b2978237",
   "metadata": {},
   "outputs": [
    {
     "name": "stdout",
     "output_type": "stream",
     "text": [
      "[]\n"
     ]
    }
   ],
   "source": [
    "print([])"
   ]
  },
  {
   "cell_type": "code",
   "execution_count": 62,
   "id": "4a9b0436-58a0-401f-89a4-2a64ddc7cc43",
   "metadata": {},
   "outputs": [
    {
     "name": "stdout",
     "output_type": "stream",
     "text": [
      "5\n",
      "4\n",
      "3\n",
      "2\n",
      "1\n",
      "Blastoff!\n"
     ]
    }
   ],
   "source": [
    "for i in [5, 4, 3, 2, 1] :\n",
    "   print(i)\n",
    "print('Blastoff!')"
   ]
  },
  {
   "cell_type": "markdown",
   "id": "d7dc685d-050b-49ea-8ec2-ee2e373892cb",
   "metadata": {},
   "source": [
    "# lists and definite loops"
   ]
  },
  {
   "cell_type": "code",
   "execution_count": 63,
   "id": "bb96e2cc-04ec-487d-a017-0ff4a09307d1",
   "metadata": {},
   "outputs": [
    {
     "name": "stdout",
     "output_type": "stream",
     "text": [
      "Happy New Year: Joseph\n",
      "Happy New Year: Glenn\n",
      "Happy New Year: Sally\n",
      "Done!\n"
     ]
    }
   ],
   "source": [
    "friends = ['Joseph', 'Glenn', 'Sally']\n",
    "for friend in friends :\n",
    "    print('Happy New Year:', friend)\n",
    "print('Done!')\n"
   ]
  },
  {
   "cell_type": "markdown",
   "id": "005539cd-ad5c-426b-a3bd-5c6707e000b2",
   "metadata": {},
   "source": [
    "# looking inside a list"
   ]
  },
  {
   "cell_type": "code",
   "execution_count": 64,
   "id": "6603bea8-3cce-4d59-b504-610ab31370b9",
   "metadata": {},
   "outputs": [
    {
     "name": "stdout",
     "output_type": "stream",
     "text": [
      "Glenn\n"
     ]
    }
   ],
   "source": [
    "friends = [ 'Joseph', 'Glenn', 'Sally' ]\n",
    "print(friends[1])"
   ]
  },
  {
   "cell_type": "markdown",
   "id": "e04c0b24-c005-4355-810b-8b9ba2807018",
   "metadata": {},
   "source": [
    "# lists are mutable"
   ]
  },
  {
   "cell_type": "code",
   "execution_count": 75,
   "id": "14e94912-cdcc-47b5-bd09-be69585e0ad1",
   "metadata": {},
   "outputs": [
    {
     "name": "stdout",
     "output_type": "stream",
     "text": [
      "banana\n"
     ]
    }
   ],
   "source": [
    "fruit ='Banana'\n",
    "x = fruit.lower()\n",
    "print(x)\n"
   ]
  },
  {
   "cell_type": "code",
   "execution_count": 76,
   "id": "2029ca88-e8c5-4f4c-9c18-119e01dc78ac",
   "metadata": {},
   "outputs": [
    {
     "name": "stdout",
     "output_type": "stream",
     "text": [
      "[2, 14, 26, 41, 63]\n"
     ]
    }
   ],
   "source": [
    "lotto = [2, 14, 26, 41, 63]\n",
    "print(lotto)"
   ]
  },
  {
   "cell_type": "markdown",
   "id": "8698ab7c-56b0-4142-a389-2b807dc338c5",
   "metadata": {},
   "source": [
    "# how long is a list"
   ]
  },
  {
   "cell_type": "code",
   "execution_count": 77,
   "id": "b997f0da-928a-4ea6-bfbc-7ef67f471799",
   "metadata": {},
   "outputs": [
    {
     "name": "stdout",
     "output_type": "stream",
     "text": [
      "9\n"
     ]
    }
   ],
   "source": [
    "greet = 'Hello Bob'\n",
    "print(len(greet))\n"
   ]
  },
  {
   "cell_type": "markdown",
   "id": "8c66ae75-d07b-48cf-8193-887554f9bb0a",
   "metadata": {},
   "source": [
    "# using range() function"
   ]
  },
  {
   "cell_type": "code",
   "execution_count": 78,
   "id": "0e2f5ce4-b7b3-4d79-aa8e-fa5352cb1099",
   "metadata": {},
   "outputs": [
    {
     "name": "stdout",
     "output_type": "stream",
     "text": [
      "range(0, 4)\n"
     ]
    }
   ],
   "source": [
    "print(range(4))"
   ]
  },
  {
   "cell_type": "code",
   "execution_count": 79,
   "id": "f1520589-30e4-495e-a111-d130fd54ac0a",
   "metadata": {},
   "outputs": [
    {
     "name": "stdout",
     "output_type": "stream",
     "text": [
      "3\n"
     ]
    }
   ],
   "source": [
    "friends = ['Joseph', 'Glenn', 'Sally']\n",
    "print(len(friends))\n"
   ]
  },
  {
   "cell_type": "markdown",
   "id": "5ef7de07-4fd2-4628-bcc0-2d853bbe3512",
   "metadata": {},
   "source": [
    "#  a tale of two loops"
   ]
  },
  {
   "cell_type": "code",
   "execution_count": 80,
   "id": "b96e2464-8124-42ea-b410-1caa2c3ebda5",
   "metadata": {},
   "outputs": [
    {
     "name": "stdout",
     "output_type": "stream",
     "text": [
      "Happy New Year: Joseph\n",
      "Happy New Year: Glenn\n",
      "Happy New Year: Sally\n",
      "Happy New Year: Joseph\n",
      "Happy New Year: Glenn\n",
      "Happy New Year: Sally\n"
     ]
    }
   ],
   "source": [
    "friends = ['Joseph', 'Glenn', 'Sally']\n",
    "for friend in friends :\n",
    "     print('Happy New Year:', friend)\n",
    "for i in range(len(friends)) :\n",
    "     friend = friends[i]\n",
    "     print('Happy New Year:', friend)"
   ]
  },
  {
   "cell_type": "markdown",
   "id": "53019a83-1593-4d6a-b1e9-261ed1f57dff",
   "metadata": {},
   "source": [
    "# concatenating lists using +"
   ]
  },
  {
   "cell_type": "code",
   "execution_count": 81,
   "id": "3e7eac14-fdc1-4b88-8cc7-edc1d6046fc6",
   "metadata": {},
   "outputs": [
    {
     "name": "stdout",
     "output_type": "stream",
     "text": [
      "[1, 2, 3, 4, 5, 6]\n"
     ]
    }
   ],
   "source": [
    "a = [1, 2, 3]\n",
    "b = [4, 5, 6]\n",
    "c = a + b\n",
    "print(c)"
   ]
  },
  {
   "cell_type": "markdown",
   "id": "bf076f81-37b5-47e2-85cf-6d20d39af040",
   "metadata": {},
   "source": [
    "# slicing a list"
   ]
  },
  {
   "cell_type": "code",
   "execution_count": 82,
   "id": "490c3879-d52f-4d37-b001-1a375d7415c2",
   "metadata": {},
   "outputs": [
    {
     "data": {
      "text/plain": [
       "[41, 12]"
      ]
     },
     "execution_count": 82,
     "metadata": {},
     "output_type": "execute_result"
    }
   ],
   "source": [
    "t = [9, 41, 12, 3, 74, 15]\n",
    "t[1:3]"
   ]
  },
  {
   "cell_type": "markdown",
   "id": "3db48e8e-7721-4d15-bf2d-c95449c125ad",
   "metadata": {},
   "source": [
    "# building a list from scratch"
   ]
  },
  {
   "cell_type": "code",
   "execution_count": 91,
   "id": "589b0940-7e6c-44ac-853d-e3fd4ffedb8f",
   "metadata": {},
   "outputs": [
    {
     "name": "stdout",
     "output_type": "stream",
     "text": [
      "['book', 99]\n"
     ]
    }
   ],
   "source": [
    "stuff = list()\n",
    "stuff.append('book')\n",
    "stuff.append(99)\n",
    "print(stuff)"
   ]
  },
  {
   "cell_type": "markdown",
   "id": "069c09ad-f541-4210-94ac-b350dd158e00",
   "metadata": {},
   "source": [
    "# is something in a list?"
   ]
  },
  {
   "cell_type": "code",
   "execution_count": 97,
   "id": "58a2ff7d-008e-4b87-8d4d-992141000a38",
   "metadata": {},
   "outputs": [
    {
     "data": {
      "text/plain": [
       "True"
      ]
     },
     "execution_count": 97,
     "metadata": {},
     "output_type": "execute_result"
    }
   ],
   "source": [
    "some = [1, 9, 21, 10, 16]\n",
    "9 in some\n"
   ]
  },
  {
   "cell_type": "code",
   "execution_count": 96,
   "id": "9293af81-10b8-4ca2-a5a7-5b747ceb34b4",
   "metadata": {},
   "outputs": [
    {
     "data": {
      "text/plain": [
       "False"
      ]
     },
     "execution_count": 96,
     "metadata": {},
     "output_type": "execute_result"
    }
   ],
   "source": [
    "15 in some\n"
   ]
  },
  {
   "cell_type": "code",
   "execution_count": 98,
   "id": "f08b0b8b-9afd-4279-90fc-ec746b2e5d50",
   "metadata": {},
   "outputs": [
    {
     "data": {
      "text/plain": [
       "True"
      ]
     },
     "execution_count": 98,
     "metadata": {},
     "output_type": "execute_result"
    }
   ],
   "source": [
    "20 not in some"
   ]
  },
  {
   "cell_type": "markdown",
   "id": "7cff26a4-9f71-4668-91a2-5fae7130c7d1",
   "metadata": {},
   "source": [
    "# lists are in order"
   ]
  },
  {
   "cell_type": "code",
   "execution_count": 100,
   "id": "95e3ad14-d23d-43e1-a4e6-1e8c6a3b82d1",
   "metadata": {},
   "outputs": [
    {
     "name": "stdout",
     "output_type": "stream",
     "text": [
      "['Glenn', 'Joseph', 'Sally']\n",
      "Joseph\n"
     ]
    }
   ],
   "source": [
    "friends = [ 'Joseph', 'Glenn', 'Sally' ]\n",
    "friends.sort()\n",
    "print(friends)\n",
    "print(friends[1])\n",
    "\n"
   ]
  },
  {
   "cell_type": "markdown",
   "id": "18f956cd-6ec2-4a1f-9338-9c619a64ed14",
   "metadata": {},
   "source": [
    "# build-in functions and lists"
   ]
  },
  {
   "cell_type": "code",
   "execution_count": 102,
   "id": "c01e4f20-7473-414f-81ac-c1d1272f8f49",
   "metadata": {},
   "outputs": [
    {
     "name": "stdout",
     "output_type": "stream",
     "text": [
      "6\n",
      "74\n",
      "3\n",
      "154\n",
      "25.666666666666668\n"
     ]
    }
   ],
   "source": [
    "nums = [3, 41, 12, 9, 74, 15]\n",
    "print(len(nums))\n",
    "print(max(nums))\n",
    "print(min(nums))\n",
    "print(sum(nums))\n",
    "print(sum(nums)/len(nums))"
   ]
  },
  {
   "cell_type": "code",
   "execution_count": 104,
   "id": "cb40d5e6-8926-4688-a4de-b19fac75ef52",
   "metadata": {},
   "outputs": [
    {
     "name": "stdout",
     "output_type": "stream",
     "text": [
      "Enter a number:  3\n",
      "Enter a number:  9\n",
      "Enter a number:  5\n",
      "Enter a number:  done\n"
     ]
    },
    {
     "name": "stdout",
     "output_type": "stream",
     "text": [
      "Average: 5.666666666666667\n"
     ]
    }
   ],
   "source": [
    "total = 0\n",
    "count = 0\n",
    "while True :\n",
    "      inp = input('Enter a number: ')\n",
    "      if inp == 'done' : break\n",
    "      value = float(inp)\n",
    "      total = total + value\n",
    "      count = count + 1\n",
    "average = total / count\n",
    "print('Average:', average)\n"
   ]
  },
  {
   "cell_type": "markdown",
   "id": "fa67be77-4371-48a9-a072-bab521599a8f",
   "metadata": {},
   "source": [
    "# Bestfrinds: Strings and Lists"
   ]
  },
  {
   "cell_type": "code",
   "execution_count": 107,
   "id": "a921a226-7336-46dd-8749-d04ec0eb2b7e",
   "metadata": {},
   "outputs": [
    {
     "name": "stdout",
     "output_type": "stream",
     "text": [
      "['With', 'three', 'words']\n",
      "3\n",
      "With\n"
     ]
    }
   ],
   "source": [
    "abc = 'With three words'\n",
    "stuff = abc.split()\n",
    "print(stuff)\n",
    "print(len(stuff))\n",
    "print(stuff[0])\n"
   ]
  },
  {
   "cell_type": "markdown",
   "id": "8a8cf57e-b5bb-48b9-a224-d183c4c99213",
   "metadata": {},
   "source": [
    "# Chapter 9 (pyhton dictionaries)"
   ]
  },
  {
   "cell_type": "code",
   "execution_count": 113,
   "id": "dd21f916-722e-4545-b008-5b4adec02a8c",
   "metadata": {},
   "outputs": [
    {
     "name": "stdout",
     "output_type": "stream",
     "text": [
      "4\n"
     ]
    }
   ],
   "source": [
    "x = 2\n",
    "x = 4\n",
    "print(x)"
   ]
  },
  {
   "cell_type": "markdown",
   "id": "7e170973-1cdd-4790-afc9-6ed49cf41748",
   "metadata": {},
   "source": [
    "# dictionaries"
   ]
  },
  {
   "cell_type": "code",
   "execution_count": 116,
   "id": "856fb02d-28e3-4696-bcca-36328d4d6065",
   "metadata": {},
   "outputs": [
    {
     "name": "stdout",
     "output_type": "stream",
     "text": [
      "{'money': 12, 'candy': 3, 'tissues': 75}\n",
      "3\n",
      "{'money': 12, 'candy': 5, 'tissues': 75}\n"
     ]
    }
   ],
   "source": [
    "purse = dict()\n",
    "purse['money'] = 12\n",
    "purse['candy'] = 3\n",
    "purse['tissues'] = 75\n",
    "print(purse)\n",
    "print(purse['candy'])\n",
    "purse['candy'] = purse['candy'] + 2\n",
    "print(purse)\n",
    "\n"
   ]
  },
  {
   "cell_type": "markdown",
   "id": "dcface0f-97df-4d11-8381-4b13749a950e",
   "metadata": {},
   "source": [
    "# comparing lists and dictionaries"
   ]
  },
  {
   "cell_type": "code",
   "execution_count": 118,
   "id": "243a3649-c6e2-4460-86e2-f82d0ddffff2",
   "metadata": {},
   "outputs": [
    {
     "name": "stdout",
     "output_type": "stream",
     "text": [
      "[21, 183]\n",
      "[23, 183]\n"
     ]
    }
   ],
   "source": [
    "lst = list()\n",
    "lst.append(21)\n",
    "lst.append(183)\n",
    "print(lst)\n",
    "lst[0] = 23\n",
    "print(lst)\n"
   ]
  },
  {
   "cell_type": "code",
   "execution_count": 119,
   "id": "b55aa98e-6396-46d7-b268-aee359f7f32f",
   "metadata": {},
   "outputs": [
    {
     "name": "stdout",
     "output_type": "stream",
     "text": [
      "{'age': 21, 'course': 182}\n",
      "{'age': 23, 'course': 182}\n"
     ]
    }
   ],
   "source": [
    "ddd = dict()\n",
    "ddd['age'] = 21\n",
    "ddd['course'] = 182\n",
    "print(ddd)\n",
    "ddd['age'] = 23\n",
    "print(ddd)"
   ]
  },
  {
   "cell_type": "markdown",
   "id": "e0bd26d3-fef4-4d15-bdc6-3128f04a89c3",
   "metadata": {},
   "source": [
    "# dictionary literals(constants)"
   ]
  },
  {
   "cell_type": "code",
   "execution_count": 121,
   "id": "62def54c-7a0b-4de9-9bdd-03903673954b",
   "metadata": {},
   "outputs": [
    {
     "name": "stdout",
     "output_type": "stream",
     "text": [
      "{'chuck': 1, 'fred': 42, 'jan': 100}\n",
      "{}\n"
     ]
    }
   ],
   "source": [
    "jjj = { 'chuck' : 1 , 'fred' : 42, 'jan': 100}\n",
    "print(jjj)\n",
    "ooo = { }\n",
    "print(ooo)"
   ]
  },
  {
   "cell_type": "markdown",
   "id": "66f3ac99-89e4-4bed-a069-af5e6d0a62d7",
   "metadata": {},
   "source": [
    "# many encounters with dictionary"
   ]
  },
  {
   "cell_type": "code",
   "execution_count": 123,
   "id": "ae90ef1d-d321-4e65-8e86-e25b65e4ca59",
   "metadata": {},
   "outputs": [
    {
     "name": "stdout",
     "output_type": "stream",
     "text": [
      "{'csev': 1, 'cwen': 1}\n",
      "{'csev': 1, 'cwen': 2}\n"
     ]
    }
   ],
   "source": [
    "ccc = dict()\n",
    "ccc['csev'] = 1\n",
    "ccc['cwen'] = 1\n",
    "print(ccc)\n",
    "ccc['cwen'] = ccc['cwen'] + 1\n",
    "print(ccc)"
   ]
  },
  {
   "cell_type": "markdown",
   "id": "88309483-9268-4493-8cb8-741a29fe2781",
   "metadata": {},
   "source": [
    "# when we see a new name"
   ]
  },
  {
   "cell_type": "code",
   "execution_count": 130,
   "id": "2d0dd0f7-c724-411f-990b-7f1d3a469ecd",
   "metadata": {},
   "outputs": [
    {
     "name": "stdout",
     "output_type": "stream",
     "text": [
      "{'csev': 2, 'cwen': 2, 'zqian': 1}\n"
     ]
    }
   ],
   "source": [
    "counts = dict()\n",
    "names = ['csev', 'cwen', 'csev', 'zqian', 'cwen']\n",
    "for name in names :\n",
    "      if name not in counts:\n",
    "         counts[name] = 1\n",
    "      else :\n",
    "         counts[name] = counts[name] + 1\n",
    "print(counts)   "
   ]
  },
  {
   "cell_type": "markdown",
   "id": "300ebeee-6732-42c0-9afd-518a2792a1e4",
   "metadata": {},
   "source": [
    "# simplified counting with get()"
   ]
  },
  {
   "cell_type": "code",
   "execution_count": 137,
   "id": "82269eab-a9d1-410b-a460-156d97feba28",
   "metadata": {},
   "outputs": [
    {
     "name": "stdout",
     "output_type": "stream",
     "text": [
      "{'csev': 2, 'cwen': 2, 'zqian': 1}\n"
     ]
    }
   ],
   "source": [
    "counts = dict()\n",
    "names = ['csev', 'cwen', 'csev', 'zqian', 'cwen']\n",
    "for name in names :\n",
    "    counts[name] = counts.get(name, 0) + 1\n",
    "print(counts)\n"
   ]
  },
  {
   "cell_type": "markdown",
   "id": "832cbc80-c80d-4136-8b4e-0a4cdf5e5e4e",
   "metadata": {},
   "source": [
    "# counting words in a text"
   ]
  },
  {
   "cell_type": "code",
   "execution_count": 138,
   "id": "2f463069-b78c-4fa5-b012-419e915ba14c",
   "metadata": {},
   "outputs": [
    {
     "name": "stdout",
     "output_type": "stream",
     "text": [
      "Enter a line of text:\n"
     ]
    },
    {
     "name": "stdout",
     "output_type": "stream",
     "text": [
      " Artificial INtelligemce is a very vast field. It is related to building robots and other things to provide advanced facilities to human beings ,in simple world to make them more lazy.\n"
     ]
    },
    {
     "name": "stdout",
     "output_type": "stream",
     "text": [
      "Words: ['Artificial', 'INtelligemce', 'is', 'a', 'very', 'vast', 'field.', 'It', 'is', 'related', 'to', 'building', 'robots', 'and', 'other', 'things', 'to', 'provide', 'advanced', 'facilities', 'to', 'human', 'beings', ',in', 'simple', 'world', 'to', 'make', 'them', 'more', 'lazy.']\n",
      "Counting...\n",
      "Counts {'Artificial': 1, 'INtelligemce': 1, 'is': 2, 'a': 1, 'very': 1, 'vast': 1, 'field.': 1, 'It': 1, 'related': 1, 'to': 4, 'building': 1, 'robots': 1, 'and': 1, 'other': 1, 'things': 1, 'provide': 1, 'advanced': 1, 'facilities': 1, 'human': 1, 'beings': 1, ',in': 1, 'simple': 1, 'world': 1, 'make': 1, 'them': 1, 'more': 1, 'lazy.': 1}\n"
     ]
    }
   ],
   "source": [
    "counts = dict()\n",
    "print('Enter a line of text:')\n",
    "line = input('')\n",
    "words = line.split()\n",
    "print('Words:', words)\n",
    "print('Counting...')\n",
    "for word in words:\n",
    "     counts[word] = counts.get(word,0) + 1\n",
    "print('Counts', counts)"
   ]
  },
  {
   "cell_type": "markdown",
   "id": "e87dc66d-f88b-467b-be2d-2b2219cf5a27",
   "metadata": {},
   "source": [
    "# definite loops and dictionaries"
   ]
  },
  {
   "cell_type": "code",
   "execution_count": 140,
   "id": "becc1049-cbb4-494a-8ac3-0f6e1d669412",
   "metadata": {},
   "outputs": [
    {
     "name": "stdout",
     "output_type": "stream",
     "text": [
      "chuck 1\n",
      "fred 42\n",
      "jan 100\n"
     ]
    }
   ],
   "source": [
    "counts = { 'chuck' : 1 , 'fred' : 42, 'jan': 100}\n",
    "for key in counts:\n",
    "     print(key, counts[key])"
   ]
  },
  {
   "cell_type": "markdown",
   "id": "b7580db9-7a5f-4a96-874f-494cc6f4433a",
   "metadata": {},
   "source": [
    "# retrieving lists of keys and values"
   ]
  },
  {
   "cell_type": "code",
   "execution_count": 141,
   "id": "6da19884-4fa7-477e-9841-82265d53550e",
   "metadata": {},
   "outputs": [
    {
     "name": "stdout",
     "output_type": "stream",
     "text": [
      "['chuck', 'fred', 'jan']\n",
      "dict_keys(['chuck', 'fred', 'jan'])\n"
     ]
    }
   ],
   "source": [
    "jjj = { 'chuck' : 1 , 'fred' : 42, 'jan': 100}\n",
    "print(list(jjj))\n",
    "print(jjj.keys())"
   ]
  },
  {
   "cell_type": "markdown",
   "id": "b476250b-4951-48be-b593-6f2f326d43d8",
   "metadata": {},
   "source": [
    "# bonus two iteration varaibles"
   ]
  },
  {
   "cell_type": "code",
   "execution_count": 143,
   "id": "28e0a7b0-5db6-46c9-8c2d-fb25742faf95",
   "metadata": {},
   "outputs": [
    {
     "name": "stdout",
     "output_type": "stream",
     "text": [
      "chuck 1\n",
      "fred 42\n",
      "jan 100\n"
     ]
    }
   ],
   "source": [
    "jjj = { 'chuck' : 1 , 'fred' : 42, 'jan': 100}\n",
    "for aaa,bbb in jjj.items() :\n",
    "    print(aaa, bbb)"
   ]
  },
  {
   "cell_type": "markdown",
   "id": "f47dfee9-74c5-4eb5-a156-37ffd5ffba15",
   "metadata": {},
   "source": [
    "# using nested loops"
   ]
  },
  {
   "cell_type": "code",
   "execution_count": 144,
   "id": "00b27428-08e9-4ce7-bc26-faf65af034e9",
   "metadata": {},
   "outputs": [
    {
     "name": "stdout",
     "output_type": "stream",
     "text": [
      "Enter file: test.txt\n"
     ]
    },
    {
     "name": "stdout",
     "output_type": "stream",
     "text": [
      "From: 1\n"
     ]
    }
   ],
   "source": [
    "name = input('Enter file:')\n",
    "handle = open(name)\n",
    "counts = dict()\n",
    "for line in handle:\n",
    "    words = line.split()\n",
    "    for word in words:\n",
    "        counts[word] = counts.get(word,0) + 1\n",
    "bigcount = None\n",
    "bigword = None\n",
    "for word,count in counts.items():\n",
    "    if bigcount is None or count > bigcount:\n",
    "      bigword = word\n",
    "      bigcount = count\n",
    "print(bigword, bigcount)"
   ]
  },
  {
   "cell_type": "markdown",
   "id": "9dc8d56f-fdad-4ce4-ba5d-ae260a7a1db3",
   "metadata": {},
   "source": [
    "# Chapter 10 (Tuples)"
   ]
  },
  {
   "cell_type": "code",
   "execution_count": 146,
   "id": "818f59d2-0255-439a-8877-71aa90201c7b",
   "metadata": {},
   "outputs": [
    {
     "name": "stdout",
     "output_type": "stream",
     "text": [
      "Joseph\n",
      "(1, 9, 2)\n"
     ]
    }
   ],
   "source": [
    "x = ('Glenn', 'Sally', 'Joseph')\n",
    "print(x[2])\n",
    "y = ( 1, 9, 2 )\n",
    "print(y)"
   ]
  },
  {
   "cell_type": "markdown",
   "id": "42e94d10-25c0-4042-978b-6318fddeaada",
   "metadata": {},
   "source": [
    "# tuples are like lists but they are immutable"
   ]
  },
  {
   "cell_type": "code",
   "execution_count": 147,
   "id": "23a19cd7-c1df-4f49-afa3-5fb4dde1cf28",
   "metadata": {},
   "outputs": [
    {
     "name": "stdout",
     "output_type": "stream",
     "text": [
      "[9, 8, 6]\n"
     ]
    }
   ],
   "source": [
    "x = [9, 8, 7]\n",
    "x[2] = 6\n",
    "print(x)"
   ]
  },
  {
   "cell_type": "code",
   "execution_count": null,
   "id": "3dfd890d-7cc2-4348-9040-bc7dcd105c3a",
   "metadata": {},
   "outputs": [],
   "source": [
    "# a tale of two sequences"
   ]
  },
  {
   "cell_type": "code",
   "execution_count": 148,
   "id": "bf8583ad-d33c-46a9-8ed7-7361a91af88a",
   "metadata": {},
   "outputs": [
    {
     "data": {
      "text/plain": [
       "['__add__',\n",
       " '__class__',\n",
       " '__class_getitem__',\n",
       " '__contains__',\n",
       " '__delattr__',\n",
       " '__delitem__',\n",
       " '__dir__',\n",
       " '__doc__',\n",
       " '__eq__',\n",
       " '__format__',\n",
       " '__ge__',\n",
       " '__getattribute__',\n",
       " '__getitem__',\n",
       " '__getstate__',\n",
       " '__gt__',\n",
       " '__hash__',\n",
       " '__iadd__',\n",
       " '__imul__',\n",
       " '__init__',\n",
       " '__init_subclass__',\n",
       " '__iter__',\n",
       " '__le__',\n",
       " '__len__',\n",
       " '__lt__',\n",
       " '__mul__',\n",
       " '__ne__',\n",
       " '__new__',\n",
       " '__reduce__',\n",
       " '__reduce_ex__',\n",
       " '__repr__',\n",
       " '__reversed__',\n",
       " '__rmul__',\n",
       " '__setattr__',\n",
       " '__setitem__',\n",
       " '__sizeof__',\n",
       " '__str__',\n",
       " '__subclasshook__',\n",
       " 'append',\n",
       " 'clear',\n",
       " 'copy',\n",
       " 'count',\n",
       " 'extend',\n",
       " 'index',\n",
       " 'insert',\n",
       " 'pop',\n",
       " 'remove',\n",
       " 'reverse',\n",
       " 'sort']"
      ]
     },
     "execution_count": 148,
     "metadata": {},
     "output_type": "execute_result"
    }
   ],
   "source": [
    "l = list()\n",
    "dir(l)"
   ]
  },
  {
   "cell_type": "code",
   "execution_count": 149,
   "id": "f3c35466-525e-4a70-89e0-3c531c7a0523",
   "metadata": {},
   "outputs": [
    {
     "data": {
      "text/plain": [
       "['__add__',\n",
       " '__class__',\n",
       " '__class_getitem__',\n",
       " '__contains__',\n",
       " '__delattr__',\n",
       " '__dir__',\n",
       " '__doc__',\n",
       " '__eq__',\n",
       " '__format__',\n",
       " '__ge__',\n",
       " '__getattribute__',\n",
       " '__getitem__',\n",
       " '__getnewargs__',\n",
       " '__getstate__',\n",
       " '__gt__',\n",
       " '__hash__',\n",
       " '__init__',\n",
       " '__init_subclass__',\n",
       " '__iter__',\n",
       " '__le__',\n",
       " '__len__',\n",
       " '__lt__',\n",
       " '__mul__',\n",
       " '__ne__',\n",
       " '__new__',\n",
       " '__reduce__',\n",
       " '__reduce_ex__',\n",
       " '__repr__',\n",
       " '__rmul__',\n",
       " '__setattr__',\n",
       " '__sizeof__',\n",
       " '__str__',\n",
       " '__subclasshook__',\n",
       " 'count',\n",
       " 'index']"
      ]
     },
     "execution_count": 149,
     "metadata": {},
     "output_type": "execute_result"
    }
   ],
   "source": [
    "t = tuple()\n",
    "dir(t)\n"
   ]
  },
  {
   "cell_type": "code",
   "execution_count": null,
   "id": "26227b21-d5ea-4017-bbc8-2e46db31a528",
   "metadata": {},
   "outputs": [],
   "source": [
    "# tuples and assignments"
   ]
  },
  {
   "cell_type": "code",
   "execution_count": 151,
   "id": "abbef570-ff75-4268-9615-c360c5a2eb79",
   "metadata": {},
   "outputs": [
    {
     "name": "stdout",
     "output_type": "stream",
     "text": [
      "fred\n",
      "99\n"
     ]
    }
   ],
   "source": [
    "(x, y) = (4, 'fred')\n",
    "print(y)\n",
    "(a, b) = (99, 98)\n",
    "print(a)"
   ]
  },
  {
   "cell_type": "code",
   "execution_count": null,
   "id": "25ab9841-2928-4ea4-b299-9fe73d53a105",
   "metadata": {},
   "outputs": [],
   "source": [
    "# tuples and dictionaries"
   ]
  },
  {
   "cell_type": "code",
   "execution_count": 154,
   "id": "0527c8c2-a1d8-4be6-956a-2e6bd1fb50b7",
   "metadata": {},
   "outputs": [
    {
     "name": "stdout",
     "output_type": "stream",
     "text": [
      "csev 2\n",
      "cwen 4\n"
     ]
    }
   ],
   "source": [
    "d = dict()\n",
    "d['csev'] = 2\n",
    "d['cwen'] = 4\n",
    "for (k,v) in d.items():\n",
    "     print(k, v)\n"
   ]
  },
  {
   "cell_type": "code",
   "execution_count": 155,
   "id": "8379e115-d8b9-4676-846e-349babb162c2",
   "metadata": {},
   "outputs": [
    {
     "name": "stdout",
     "output_type": "stream",
     "text": [
      "dict_items([('csev', 2), ('cwen', 4)])\n"
     ]
    }
   ],
   "source": [
    "tups = d.items()\n",
    "print(tups)"
   ]
  },
  {
   "cell_type": "code",
   "execution_count": null,
   "id": "5f7bb73e-27ef-4561-908f-4b933e43482c",
   "metadata": {},
   "outputs": [],
   "source": [
    "# tuples are comparable"
   ]
  },
  {
   "cell_type": "code",
   "execution_count": 156,
   "id": "399593d8-31c6-493a-b033-fec233310e75",
   "metadata": {},
   "outputs": [
    {
     "data": {
      "text/plain": [
       "True"
      ]
     },
     "execution_count": 156,
     "metadata": {},
     "output_type": "execute_result"
    }
   ],
   "source": [
    "(0, 1, 2) < (5, 1, 2)\n"
   ]
  },
  {
   "cell_type": "code",
   "execution_count": 157,
   "id": "a430f458-5af1-4ea5-9b3f-a2c5101ce53f",
   "metadata": {},
   "outputs": [
    {
     "data": {
      "text/plain": [
       "True"
      ]
     },
     "execution_count": 157,
     "metadata": {},
     "output_type": "execute_result"
    }
   ],
   "source": [
    "( 'Jones', 'Sally' ) < ('Jones', 'Sam')\n",
    "\n"
   ]
  },
  {
   "cell_type": "code",
   "execution_count": null,
   "id": "c37424ea-66a2-476a-b66e-c70c11312941",
   "metadata": {},
   "outputs": [],
   "source": [
    "# using sorted()"
   ]
  },
  {
   "cell_type": "code",
   "execution_count": 170,
   "id": "f0fef42c-74a2-46b2-b5cb-66672ae426ee",
   "metadata": {},
   "outputs": [
    {
     "data": {
      "text/plain": [
       "[('a', 10), ('b', 1), ('c', 22)]"
      ]
     },
     "execution_count": 170,
     "metadata": {},
     "output_type": "execute_result"
    }
   ],
   "source": [
    "d = {'a':10, 'b':1, 'c':22}\n",
    "t = sorted(d.items())\n",
    "t"
   ]
  },
  {
   "cell_type": "code",
   "execution_count": 171,
   "id": "c8305dc5-4f71-457c-b892-0cc459706053",
   "metadata": {},
   "outputs": [
    {
     "name": "stdout",
     "output_type": "stream",
     "text": [
      "a 10\n",
      "b 1\n",
      "c 22\n"
     ]
    }
   ],
   "source": [
    "for k, v in sorted(d.items()):\n",
    "   print(k, v)\n"
   ]
  },
  {
   "cell_type": "code",
   "execution_count": null,
   "id": "ba11e9df-0bcd-4c56-b7e5-6fdfe243f9f9",
   "metadata": {},
   "outputs": [],
   "source": [
    "# sort by values instead of keys"
   ]
  },
  {
   "cell_type": "code",
   "execution_count": 173,
   "id": "66531ac6-e467-43f5-b647-532686b5979b",
   "metadata": {},
   "outputs": [
    {
     "name": "stdout",
     "output_type": "stream",
     "text": [
      "[(10, 'a'), (1, 'b'), (22, 'c')]\n"
     ]
    }
   ],
   "source": [
    "c = {'a':10, 'b':1, 'c':22}\n",
    "tmp = list()\n",
    "for k, v in c.items() :\n",
    "    tmp.append( (v, k) )\n",
    "\n",
    "print(tmp)"
   ]
  },
  {
   "cell_type": "code",
   "execution_count": 174,
   "id": "32b7e818-ddcd-43a2-bd18-94b590f05d78",
   "metadata": {},
   "outputs": [
    {
     "name": "stdout",
     "output_type": "stream",
     "text": [
      "[(22, 'c'), (10, 'a'), (1, 'b')]\n"
     ]
    }
   ],
   "source": [
    "tmp = sorted(tmp, reverse=True)\n",
    "print(tmp)\n"
   ]
  },
  {
   "cell_type": "code",
   "execution_count": null,
   "id": "f3c2cc10-c745-4106-bb32-d527c129be1d",
   "metadata": {},
   "outputs": [],
   "source": []
  }
 ],
 "metadata": {
  "kernelspec": {
   "display_name": "Python 3 (ipykernel)",
   "language": "python",
   "name": "python3"
  },
  "language_info": {
   "codemirror_mode": {
    "name": "ipython",
    "version": 3
   },
   "file_extension": ".py",
   "mimetype": "text/x-python",
   "name": "python",
   "nbconvert_exporter": "python",
   "pygments_lexer": "ipython3",
   "version": "3.11.4"
  }
 },
 "nbformat": 4,
 "nbformat_minor": 5
}
